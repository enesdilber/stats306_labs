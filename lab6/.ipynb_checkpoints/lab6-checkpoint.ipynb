{
 "cells": [
  {
   "cell_type": "markdown",
   "metadata": {},
   "source": [
    "## Lab 6: Importing and Cleaning Data "
   ]
  },
  {
   "cell_type": "markdown",
   "metadata": {},
   "source": [
    "Case study 1: cleaning the messy weather data. Sources: [http://www.rpubs.com/justinhtet/cleaning-messy-weather-dataset-with-tidyverse] and [https://rpubs.com/QuinninR/407585]."
   ]
  },
  {
   "cell_type": "code",
   "execution_count": null,
   "metadata": {},
   "outputs": [],
   "source": [
    "library(tidyverse)\n",
    "library(readxl)\n",
    "library(httr)\n",
    "library(lubridate)\n",
    "library(httr)"
   ]
  },
  {
   "cell_type": "code",
   "execution_count": null,
   "metadata": {},
   "outputs": [],
   "source": [
    "url <- \"https://assets.datacamp.com/production/repositories/34/datasets/b3c1036d9a60a9dfe0f99051d2474a54f76055ea/weather.rds\"\n",
    "GET(url, write_disk(\"weather.rds\",overwrite = T))"
   ]
  },
  {
   "cell_type": "code",
   "execution_count": null,
   "metadata": {},
   "outputs": [],
   "source": [
    "weather <- readRDS('weather.rds')"
   ]
  },
  {
   "cell_type": "code",
   "execution_count": null,
   "metadata": {},
   "outputs": [],
   "source": [
    "weather %>% glimpse"
   ]
  },
  {
   "cell_type": "markdown",
   "metadata": {},
   "source": [
    "All the data entries are characters, which is usually the case if you download your data from some outside sources!"
   ]
  },
  {
   "cell_type": "code",
   "execution_count": null,
   "metadata": {},
   "outputs": [],
   "source": [
    "head(weather, n = 10)"
   ]
  },
  {
   "cell_type": "markdown",
   "metadata": {},
   "source": [
    "Some issues to address:\n",
    "    * Column headers are values, not variable names: from X1 to X31\n",
    "    * Meaningless column: X as observational index\n",
    "    * Variables are stored in both the column: variable measure with max, min, and mean tempretures"
   ]
  },
  {
   "cell_type": "code",
   "execution_count": null,
   "metadata": {},
   "outputs": [],
   "source": [
    "# Gather the columns\n",
    "weather2 <- gather(weather, day, value, X1:X31, na.rm = TRUE)\n",
    "head(weather2, n = 10)"
   ]
  },
  {
   "cell_type": "code",
   "execution_count": null,
   "metadata": {},
   "outputs": [],
   "source": [
    "# First remove column of row names\n",
    "weather2 <- weather2[, -1]\n",
    "\n",
    "# Spread the data\n",
    "weather3 <- spread(weather2, measure, value)\n",
    "head(weather3, n = 10)"
   ]
  },
  {
   "cell_type": "markdown",
   "metadata": {},
   "source": [
    "Now get the data ready for analysis."
   ]
  },
  {
   "cell_type": "code",
   "execution_count": null,
   "metadata": {},
   "outputs": [],
   "source": [
    "# Remove X's from day column\n",
    "# Unite the year, month, and day columns\n",
    "# Convert date column to proper date format using lubridates's ymd()\n",
    "# Rearrange columns using dplyr's select()\n",
    "\n",
    "weather4 <- weather3 %>% mutate(day = str_replace(day, \"X\", \"\")) %>% \n",
    "                unite(date, year, month, day, sep = \"-\") %>% # unite year month day as date\n",
    "                    mutate(date = ymd(date)) %>% # convert it to date year-month-day format\n",
    "                        select(date, Events, CloudCover:WindDirDegrees)\n",
    "\n",
    "# View the head of weather5\n",
    "head(weather4, n = 10)"
   ]
  },
  {
   "cell_type": "code",
   "execution_count": null,
   "metadata": {},
   "outputs": [],
   "source": [
    "# # Replace \"T\" with \"0\" (T = trace)\n",
    "# weather5$PrecipitationIn <- str_replace(weather5$Precipitation, \"T\", \"0\")\n",
    "# Convert characters to numerics\n",
    "weather5 <- weather4 %>% mutate(PrecipitationIn = str_replace(PrecipitationIn, \"T\", \"0\")) %>% \n",
    "                mutate_at(vars(CloudCover:WindDirDegrees), list(as.numeric))\n",
    "str(weather5)"
   ]
  },
  {
   "cell_type": "code",
   "execution_count": null,
   "metadata": {},
   "outputs": [],
   "source": [
    "summary(weather5)"
   ]
  },
  {
   "cell_type": "markdown",
   "metadata": {},
   "source": [
    "Check the NA's in Max.Gust.SpeedMPH."
   ]
  },
  {
   "cell_type": "code",
   "execution_count": null,
   "metadata": {},
   "outputs": [],
   "source": [
    "weather5 %>% filter(is.na(Max.Gust.SpeedMPH)) %>% print"
   ]
  },
  {
   "cell_type": "code",
   "execution_count": null,
   "metadata": {},
   "outputs": [],
   "source": [
    "str(weather5$Events)"
   ]
  },
  {
   "cell_type": "code",
   "execution_count": null,
   "metadata": {},
   "outputs": [],
   "source": [
    "weather6 <- weather5 %>% mutate(Events = ifelse(Events==\"\",\"None\",Events)) \n",
    "str(weather6$Events)"
   ]
  },
  {
   "cell_type": "code",
   "execution_count": null,
   "metadata": {},
   "outputs": [],
   "source": [
    "write_csv(weather6, path = \"weather_clean.csv\")"
   ]
  },
  {
   "cell_type": "code",
   "execution_count": null,
   "metadata": {
    "scrolled": false
   },
   "outputs": [],
   "source": [
    "# check for errors before analysis\n",
    "# summary(weather6$Mean.VisibilityMiles)\n",
    "hist(weather6$MeanDew.PointF)\n",
    "hist(weather6$Min.TemperatureF)\n",
    "hist(weather6$Mean.TemperatureF)"
   ]
  }
 ],
 "metadata": {
  "kernelspec": {
   "display_name": "R",
   "language": "R",
   "name": "ir"
  },
  "language_info": {
   "codemirror_mode": "r",
   "file_extension": ".r",
   "mimetype": "text/x-r-source",
   "name": "R",
   "pygments_lexer": "r",
   "version": "3.6.1"
  }
 },
 "nbformat": 4,
 "nbformat_minor": 2
}
