{
 "cells": [
  {
   "cell_type": "markdown",
   "metadata": {},
   "source": [
    "# Lab 6: Practice Problems.\n"
   ]
  },
  {
   "cell_type": "code",
   "execution_count": 2,
   "metadata": {},
   "outputs": [
    {
     "name": "stderr",
     "output_type": "stream",
     "text": [
      "Warning message:\n",
      "\"package 'tidyverse' was built under R version 3.4.4\"-- Attaching packages --------------------------------------- tidyverse 1.2.1 --\n",
      "v ggplot2 2.2.1     v purrr   0.2.4\n",
      "v tibble  1.4.1     v dplyr   0.7.4\n",
      "v tidyr   0.7.2     v stringr 1.2.0\n",
      "v readr   1.1.1     v forcats 0.2.0\n",
      "Warning message:\n",
      "\"package 'tibble' was built under R version 3.4.3\"Warning message:\n",
      "\"package 'readr' was built under R version 3.4.3\"Warning message:\n",
      "\"package 'purrr' was built under R version 3.4.3\"Warning message:\n",
      "\"package 'forcats' was built under R version 3.4.3\"-- Conflicts ------------------------------------------ tidyverse_conflicts() --\n",
      "x dplyr::filter() masks stats::filter()\n",
      "x dplyr::lag()    masks stats::lag()\n"
     ]
    }
   ],
   "source": [
    "library(tidyverse)"
   ]
  },
  {
   "cell_type": "code",
   "execution_count": 4,
   "metadata": {},
   "outputs": [
    {
     "data": {
      "text/html": [
       "<ol class=list-inline>\n",
       "\t<li>'carat'</li>\n",
       "\t<li>'cut'</li>\n",
       "\t<li>'color'</li>\n",
       "\t<li>'clarity'</li>\n",
       "\t<li>'depth'</li>\n",
       "\t<li>'table'</li>\n",
       "\t<li>'price'</li>\n",
       "\t<li>'x'</li>\n",
       "\t<li>'y'</li>\n",
       "\t<li>'z'</li>\n",
       "</ol>\n"
      ],
      "text/latex": [
       "\\begin{enumerate*}\n",
       "\\item 'carat'\n",
       "\\item 'cut'\n",
       "\\item 'color'\n",
       "\\item 'clarity'\n",
       "\\item 'depth'\n",
       "\\item 'table'\n",
       "\\item 'price'\n",
       "\\item 'x'\n",
       "\\item 'y'\n",
       "\\item 'z'\n",
       "\\end{enumerate*}\n"
      ],
      "text/markdown": [
       "1. 'carat'\n",
       "2. 'cut'\n",
       "3. 'color'\n",
       "4. 'clarity'\n",
       "5. 'depth'\n",
       "6. 'table'\n",
       "7. 'price'\n",
       "8. 'x'\n",
       "9. 'y'\n",
       "10. 'z'\n",
       "\n",
       "\n"
      ],
      "text/plain": [
       " [1] \"carat\"   \"cut\"     \"color\"   \"clarity\" \"depth\"   \"table\"   \"price\"  \n",
       " [8] \"x\"       \"y\"       \"z\"      "
      ]
     },
     "metadata": {},
     "output_type": "display_data"
    },
    {
     "data": {
      "text/html": [
       "<ol class=list-inline>\n",
       "\t<li>1000</li>\n",
       "\t<li>10</li>\n",
       "</ol>\n"
      ],
      "text/latex": [
       "\\begin{enumerate*}\n",
       "\\item 1000\n",
       "\\item 10\n",
       "\\end{enumerate*}\n"
      ],
      "text/markdown": [
       "1. 1000\n",
       "2. 10\n",
       "\n",
       "\n"
      ],
      "text/plain": [
       "[1] 1000   10"
      ]
     },
     "metadata": {},
     "output_type": "display_data"
    }
   ],
   "source": [
    "rand_idx = runif(1000, min=1, max=dim(diamonds)[1])\n",
    "dm = diamonds[rand_idx, ]\n",
    "names(dm)\n",
    "dim(dm)"
   ]
  },
  {
   "cell_type": "markdown",
   "metadata": {},
   "source": [
    "# Reproduce the following plots"
   ]
  },
  {
   "cell_type": "markdown",
   "metadata": {},
   "source": [
    "![Caption for the picture.](./graph1.png)"
   ]
  },
  {
   "cell_type": "code",
   "execution_count": 1,
   "metadata": {},
   "outputs": [],
   "source": [
    "# p1 = ggplot() + \n",
    "#     geom_point() + \n",
    "#     facet_wrap()\n",
    "# print(p1)"
   ]
  },
  {
   "cell_type": "markdown",
   "metadata": {},
   "source": [
    "## Geometric objects\n",
    "So far we have plotted the points in a fundamental manner. We might be interested in the linear trends of the data that we have."
   ]
  },
  {
   "cell_type": "markdown",
   "metadata": {},
   "source": [
    "![Caption for the picture.](./graph2.png)"
   ]
  },
  {
   "cell_type": "code",
   "execution_count": 2,
   "metadata": {},
   "outputs": [],
   "source": [
    "# p2 = ggplot() +\n",
    "#     geom_point() +\n",
    "#     geom_smooth()\n",
    "# print(p2)"
   ]
  },
  {
   "cell_type": "markdown",
   "metadata": {},
   "source": [
    "### 3.6.1 Exercise\n",
    "1. What geom would you use to draw a line chart? A boxplot? A histogram? An area chart?\n",
    "2. Run this code in your head and predict what the output will look like. Then, run the code in R and check your predicions.\n"
   ]
  },
  {
   "cell_type": "markdown",
   "metadata": {},
   "source": [
    "![Caption for the picture.](./graph4.png)"
   ]
  },
  {
   "cell_type": "code",
   "execution_count": 3,
   "metadata": {},
   "outputs": [],
   "source": [
    "# p4 = ggplot() + \n",
    "#     geom_point() + \n",
    "#     geom_smooth()\n",
    "# print(p4)"
   ]
  },
  {
   "cell_type": "markdown",
   "metadata": {},
   "source": [
    "1. What does show.legend=FALSE do? What happens if you remove this?\n",
    "2. What does the se argument in geom_smooth do?\n",
    "3. Will these two graphs look different? Why / why not?"
   ]
  },
  {
   "cell_type": "markdown",
   "metadata": {},
   "source": [
    "## Statistical transformations\n",
    "stat_summary function"
   ]
  },
  {
   "cell_type": "markdown",
   "metadata": {},
   "source": [
    "![Caption for the picture.](graph6.png)"
   ]
  },
  {
   "cell_type": "code",
   "execution_count": 4,
   "metadata": {},
   "outputs": [],
   "source": [
    "# ggplot(data = dm) + \n",
    "#     stat_summary()"
   ]
  },
  {
   "cell_type": "code",
   "execution_count": 17,
   "metadata": {},
   "outputs": [
    {
     "data": {},
     "metadata": {},
     "output_type": "display_data"
    },
    {
     "data": {
      "image/png": "[encoded data removed]",
      "text/plain": [
       "plot without title"
      ]
     },
     "metadata": {},
     "output_type": "display_data"
    }
   ],
   "source": [
    "ggplot(data = diamonds) + \n",
    "  geom_bar(mapping = aes(x = cut, fill = color, y = ..prop..))"
   ]
  },
  {
   "cell_type": "markdown",
   "metadata": {},
   "source": [
    "## Position adjustments"
   ]
  },
  {
   "cell_type": "code",
   "execution_count": 18,
   "metadata": {},
   "outputs": [
    {
     "data": {},
     "metadata": {},
     "output_type": "display_data"
    },
    {
     "data": {},
     "metadata": {},
     "output_type": "display_data"
    },
    {
     "data": {
      "image/png": "[encoded data removed]",
      "text/plain": [
       "plot without title"
      ]
     },
     "metadata": {},
     "output_type": "display_data"
    },
    {
     "data": {
      "image/png": "[encoded data removed]",
      "text/plain": [
       "plot without title"
      ]
     },
     "metadata": {},
     "output_type": "display_data"
    }
   ],
   "source": [
    "ggplot(data = diamonds) + \n",
    "  geom_bar(mapping = aes(x = cut, colour = cut))\n",
    "ggplot(data = diamonds) + \n",
    "  geom_bar(mapping = aes(x = cut, fill = cut))"
   ]
  },
  {
   "cell_type": "markdown",
   "metadata": {},
   "source": [
    "Remmeber that we can \"color by\" a different variable - in this case, clarity. By default, it stacks the bars for each clarity level. This is done using the positional adjustment specified by the position argument of geom_bar. If you don't want a stacked bar chart, you can use one of three other options: \"identity\", \"dodge\", or \"fill\"."
   ]
  },
  {
   "cell_type": "markdown",
   "metadata": {},
   "source": [
    "![Caption for the picture.](graph7.png)"
   ]
  },
  {
   "cell_type": "code",
   "execution_count": 5,
   "metadata": {},
   "outputs": [],
   "source": [
    "# ggplot() + \n",
    "#   geom_bar()"
   ]
  },
  {
   "cell_type": "markdown",
   "metadata": {},
   "source": [
    "*position = \"identity\"*\n",
    "This will place each object exactly where it falls in the context of the graph. This is not very useful for bars, because it overlaps them. To see that overlapping we either need to make the bars slightly transparent by setting alpha to a small value, or completely transparent by fill=NA"
   ]
  },
  {
   "cell_type": "markdown",
   "metadata": {},
   "source": [
    "![Caption for the picture.](graph8.png)"
   ]
  },
  {
   "cell_type": "code",
   "execution_count": 6,
   "metadata": {},
   "outputs": [],
   "source": [
    "# ggplot() + \n",
    "#   geom_bar()"
   ]
  },
  {
   "cell_type": "markdown",
   "metadata": {},
   "source": [
    "![Caption for the picture.](graph9.png)"
   ]
  },
  {
   "cell_type": "code",
   "execution_count": 7,
   "metadata": {},
   "outputs": [],
   "source": [
    "# ggplot() + \n",
    "#   geom_bar()"
   ]
  },
  {
   "cell_type": "markdown",
   "metadata": {},
   "source": [
    "*position 'fill'*\n",
    "This works like stacking, but makes each set of stacked bars the same height. This makes it easier to compare proportions across groups."
   ]
  },
  {
   "cell_type": "code",
   "execution_count": 13,
   "metadata": {},
   "outputs": [
    {
     "data": {},
     "metadata": {},
     "output_type": "display_data"
    },
    {
     "data": {
      "image/png": "[encoded data removed]",
      "text/plain": [
       "plot without title"
      ]
     },
     "metadata": {},
     "output_type": "display_data"
    }
   ],
   "source": [
    "ggplot(data = dm) + \n",
    "  geom_bar(mapping = aes(x = cut, fill = clarity), position = \"fill\")"
   ]
  },
  {
   "cell_type": "markdown",
   "metadata": {},
   "source": [
    "The plot below places overlapping objects directly beside one another, which makes it easier to compare individual values."
   ]
  },
  {
   "cell_type": "markdown",
   "metadata": {},
   "source": [
    "![Caption for the picture.](graph10.png)"
   ]
  },
  {
   "cell_type": "code",
   "execution_count": 8,
   "metadata": {},
   "outputs": [],
   "source": [
    "# ggplot() + \n",
    "#   geom_bar()"
   ]
  },
  {
   "cell_type": "markdown",
   "metadata": {
    "collapsed": true
   },
   "source": [
    "# Practice Midterm"
   ]
  },
  {
   "cell_type": "code",
   "execution_count": 35,
   "metadata": {},
   "outputs": [
    {
     "data": {},
     "metadata": {},
     "output_type": "display_data"
    },
    {
     "data": {
      "image/png": "[encoded data removed]",
      "text/plain": [
       "plot without title"
      ]
     },
     "metadata": {},
     "output_type": "display_data"
    }
   ],
   "source": [
    "# Problem 6\n",
    "ggplot(data=diamonds, mapping=aes(x=clarity, fill=clarity)) +\n",
    "    geom_bar()"
   ]
  },
  {
   "cell_type": "code",
   "execution_count": 36,
   "metadata": {},
   "outputs": [
    {
     "name": "stderr",
     "output_type": "stream",
     "text": [
      "Warning message:\n",
      "“Removed 1 rows containing non-finite values (stat_bin2d).”"
     ]
    },
    {
     "data": {},
     "metadata": {},
     "output_type": "display_data"
    },
    {
     "data": {
      "image/png": "[encoded data removed]",
      "text/plain": [
       "plot without title"
      ]
     },
     "metadata": {},
     "output_type": "display_data"
    }
   ],
   "source": [
    "# Problem 7\n",
    "table7 = diamonds %>% mutate(Volume = x*y*z)\n",
    "ggplot(data=table7, mapping=aes(x=Volume, y=carat)) + \n",
    "    geom_bin2d() + xlim(0, 1000) + \n",
    "    xlab('Volume(x*y*z)') + ylab('Weight (carats)')"
   ]
  },
  {
   "cell_type": "code",
   "execution_count": 47,
   "metadata": {
    "collapsed": true
   },
   "outputs": [],
   "source": [
    "# Loading football data\n",
    "load(url('https://github.com/terhorst/stats306/raw/master/ps4/cfb.RData'))"
   ]
  },
  {
   "cell_type": "code",
   "execution_count": 117,
   "metadata": {},
   "outputs": [
    {
     "data": {
      "text/html": [
       "<table>\n",
       "<thead><tr><th scope=col>manufacturer</th><th scope=col>model</th><th scope=col>1999_cty</th><th scope=col>1999_hwy</th><th scope=col>2008_cty</th><th scope=col>2008_hwy</th></tr></thead>\n",
       "<tbody>\n",
       "\t<tr><td>audi              </td><td>a4                </td><td>18.25             </td><td>27.50             </td><td>19.66667          </td><td>29.33333          </td></tr>\n",
       "\t<tr><td>audi              </td><td>a4 quattro        </td><td>16.50             </td><td>25.25             </td><td>17.75000          </td><td>26.25000          </td></tr>\n",
       "\t<tr><td>audi              </td><td>a6 quattro        </td><td>15.00             </td><td>24.00             </td><td>16.50000          </td><td>24.00000          </td></tr>\n",
       "\t<tr><td>chevrolet         </td><td>c1500 suburban 2wd</td><td>13.00             </td><td>17.00             </td><td>12.75000          </td><td>18.00000          </td></tr>\n",
       "\t<tr><td>chevrolet         </td><td>corvette          </td><td>15.50             </td><td>24.50             </td><td>15.33333          </td><td>25.00000          </td></tr>\n",
       "\t<tr><td>chevrolet         </td><td>k1500 tahoe 4wd   </td><td>12.50             </td><td>16.00             </td><td>12.50000          </td><td>16.50000          </td></tr>\n",
       "</tbody>\n",
       "</table>\n"
      ],
      "text/latex": [
       "\\begin{tabular}{r|llllll}\n",
       " manufacturer & model & 1999\\_cty & 1999\\_hwy & 2008\\_cty & 2008\\_hwy\\\\\n",
       "\\hline\n",
       "\t audi               & a4                 & 18.25              & 27.50              & 19.66667           & 29.33333          \\\\\n",
       "\t audi               & a4 quattro         & 16.50              & 25.25              & 17.75000           & 26.25000          \\\\\n",
       "\t audi               & a6 quattro         & 15.00              & 24.00              & 16.50000           & 24.00000          \\\\\n",
       "\t chevrolet          & c1500 suburban 2wd & 13.00              & 17.00              & 12.75000           & 18.00000          \\\\\n",
       "\t chevrolet          & corvette           & 15.50              & 24.50              & 15.33333           & 25.00000          \\\\\n",
       "\t chevrolet          & k1500 tahoe 4wd    & 12.50              & 16.00              & 12.50000           & 16.50000          \\\\\n",
       "\\end{tabular}\n"
      ],
      "text/markdown": [
       "\n",
       "manufacturer | model | 1999_cty | 1999_hwy | 2008_cty | 2008_hwy | \n",
       "|---|---|---|---|---|---|\n",
       "| audi               | a4                 | 18.25              | 27.50              | 19.66667           | 29.33333           | \n",
       "| audi               | a4 quattro         | 16.50              | 25.25              | 17.75000           | 26.25000           | \n",
       "| audi               | a6 quattro         | 15.00              | 24.00              | 16.50000           | 24.00000           | \n",
       "| chevrolet          | c1500 suburban 2wd | 13.00              | 17.00              | 12.75000           | 18.00000           | \n",
       "| chevrolet          | corvette           | 15.50              | 24.50              | 15.33333           | 25.00000           | \n",
       "| chevrolet          | k1500 tahoe 4wd    | 12.50              | 16.00              | 12.50000           | 16.50000           | \n",
       "\n",
       "\n"
      ],
      "text/plain": [
       "  manufacturer model              1999_cty 1999_hwy 2008_cty 2008_hwy\n",
       "1 audi         a4                 18.25    27.50    19.66667 29.33333\n",
       "2 audi         a4 quattro         16.50    25.25    17.75000 26.25000\n",
       "3 audi         a6 quattro         15.00    24.00    16.50000 24.00000\n",
       "4 chevrolet    c1500 suburban 2wd 13.00    17.00    12.75000 18.00000\n",
       "5 chevrolet    corvette           15.50    24.50    15.33333 25.00000\n",
       "6 chevrolet    k1500 tahoe 4wd    12.50    16.00    12.50000 16.50000"
      ]
     },
     "metadata": {},
     "output_type": "display_data"
    }
   ],
   "source": [
    "# Reproducing table problem\n",
    "year_mpg = mpg \n",
    "head(year_mpg)"
   ]
  },
  {
   "cell_type": "code",
   "execution_count": 46,
   "metadata": {},
   "outputs": [
    {
     "data": {
      "text/html": [
       "<table>\n",
       "<thead><tr><th scope=col>manufacturer</th><th scope=col>year</th><th scope=col>drv</th><th scope=col>total</th></tr></thead>\n",
       "<tbody>\n",
       "\t<tr><td>dodge     </td><td>1999      </td><td>4         </td><td>10        </td></tr>\n",
       "\t<tr><td>ford      </td><td>1999      </td><td>4         </td><td> 9        </td></tr>\n",
       "\t<tr><td>toyota    </td><td>1999      </td><td>4         </td><td> 9        </td></tr>\n",
       "\t<tr><td>subaru    </td><td>1999      </td><td>4         </td><td> 6        </td></tr>\n",
       "\t<tr><td>audi      </td><td>1999      </td><td>4         </td><td> 5        </td></tr>\n",
       "\t<tr><td>chevrolet </td><td>1999      </td><td>4         </td><td> 2        </td></tr>\n",
       "\t<tr><td>jeep      </td><td>1999      </td><td>4         </td><td> 2        </td></tr>\n",
       "\t<tr><td>land rover</td><td>1999      </td><td>4         </td><td> 2        </td></tr>\n",
       "\t<tr><td>mercury   </td><td>1999      </td><td>4         </td><td> 2        </td></tr>\n",
       "\t<tr><td>nissan    </td><td>1999      </td><td>4         </td><td> 2        </td></tr>\n",
       "</tbody>\n",
       "</table>\n"
      ],
      "text/latex": [
       "\\begin{tabular}{r|llll}\n",
       " manufacturer & year & drv & total\\\\\n",
       "\\hline\n",
       "\t dodge      & 1999       & 4          & 10        \\\\\n",
       "\t ford       & 1999       & 4          &  9        \\\\\n",
       "\t toyota     & 1999       & 4          &  9        \\\\\n",
       "\t subaru     & 1999       & 4          &  6        \\\\\n",
       "\t audi       & 1999       & 4          &  5        \\\\\n",
       "\t chevrolet  & 1999       & 4          &  2        \\\\\n",
       "\t jeep       & 1999       & 4          &  2        \\\\\n",
       "\t land rover & 1999       & 4          &  2        \\\\\n",
       "\t mercury    & 1999       & 4          &  2        \\\\\n",
       "\t nissan     & 1999       & 4          &  2        \\\\\n",
       "\\end{tabular}\n"
      ],
      "text/markdown": [
       "\n",
       "manufacturer | year | drv | total | \n",
       "|---|---|---|---|---|---|---|---|---|---|\n",
       "| dodge      | 1999       | 4          | 10         | \n",
       "| ford       | 1999       | 4          |  9         | \n",
       "| toyota     | 1999       | 4          |  9         | \n",
       "| subaru     | 1999       | 4          |  6         | \n",
       "| audi       | 1999       | 4          |  5         | \n",
       "| chevrolet  | 1999       | 4          |  2         | \n",
       "| jeep       | 1999       | 4          |  2         | \n",
       "| land rover | 1999       | 4          |  2         | \n",
       "| mercury    | 1999       | 4          |  2         | \n",
       "| nissan     | 1999       | 4          |  2         | \n",
       "\n",
       "\n"
      ],
      "text/plain": [
       "   manufacturer year drv total\n",
       "1  dodge        1999 4   10   \n",
       "2  ford         1999 4    9   \n",
       "3  toyota       1999 4    9   \n",
       "4  subaru       1999 4    6   \n",
       "5  audi         1999 4    5   \n",
       "6  chevrolet    1999 4    2   \n",
       "7  jeep         1999 4    2   \n",
       "8  land rover   1999 4    2   \n",
       "9  mercury      1999 4    2   \n",
       "10 nissan       1999 4    2   "
      ]
     },
     "metadata": {},
     "output_type": "display_data"
    }
   ],
   "source": [
    "# Most 4WD problem\n",
    "mpg %>% filter(year==1999, drv=='4') %>% \n",
    "    group_by(manufacturer, year, drv) %>% summarize(total = n()) %>% \n",
    "    arrange(desc(total))"
   ]
  },
  {
   "cell_type": "code",
   "execution_count": 76,
   "metadata": {},
   "outputs": [
    {
     "data": {
      "text/html": [
       "<ol class=list-inline>\n",
       "\t<li>'Year'</li>\n",
       "\t<li>'Game'</li>\n",
       "\t<li>'Count'</li>\n",
       "\t<li>'Conf Game'</li>\n",
       "\t<li>'Week'</li>\n",
       "\t<li>'Winning'</li>\n",
       "\t<li>'Winning Conference'</li>\n",
       "\t<li>'Winning H/A/N'</li>\n",
       "\t<li>'Winning Points'</li>\n",
       "\t<li>'Winning F/U'</li>\n",
       "\t<li>'Winning Cover'</li>\n",
       "\t<li>'Winning Spread'</li>\n",
       "\t<li>'Winning O/U'</li>\n",
       "\t<li>'Winning Passes'</li>\n",
       "\t<li>'Winning Pass Yards'</li>\n",
       "\t<li>'Winning YPPA'</li>\n",
       "\t<li>'Winning Rushes'</li>\n",
       "\t<li>'Winning Rush Yards'</li>\n",
       "\t<li>'Winning YPRA'</li>\n",
       "\t<li>'Winning Plays'</li>\n",
       "\t<li>'Winning Total Yards'</li>\n",
       "\t<li>'Winning YPP'</li>\n",
       "\t<li>'Winning TO'</li>\n",
       "\t<li>'Winning Pen Yards'</li>\n",
       "\t<li>'Winning TOP'</li>\n",
       "\t<li>'Field25'</li>\n",
       "\t<li>'Losing'</li>\n",
       "\t<li>'Losing Conference'</li>\n",
       "\t<li>'Losing H/A/N'</li>\n",
       "\t<li>'Losing Points'</li>\n",
       "\t<li>'Losing F/U'</li>\n",
       "\t<li>'Losing Cover'</li>\n",
       "\t<li>'Losing Spread'</li>\n",
       "\t<li>'Losing O/U'</li>\n",
       "\t<li>'Losing Passes'</li>\n",
       "\t<li>'Losing Pass Yards'</li>\n",
       "\t<li>'Losing YPPA'</li>\n",
       "\t<li>'Losing Rush Attempts'</li>\n",
       "\t<li>'Losing Rush Yards'</li>\n",
       "\t<li>'Losing YPRA'</li>\n",
       "\t<li>'Losing Total Plays'</li>\n",
       "\t<li>'Losing Total Yards'</li>\n",
       "\t<li>'Losing YPP'</li>\n",
       "\t<li>'Losing TO'</li>\n",
       "\t<li>'Losing Pen Yards'</li>\n",
       "\t<li>'Losing TOP'</li>\n",
       "\t<li>'OT?'</li>\n",
       "\t<li>'Thursday?'</li>\n",
       "\t<li>'TOP VERIFICATION'</li>\n",
       "\t<li>'O/U Total'</li>\n",
       "\t<li>'Tot Yard Dif'</li>\n",
       "\t<li>'TO Margin'</li>\n",
       "</ol>\n"
      ],
      "text/latex": [
       "\\begin{enumerate*}\n",
       "\\item 'Year'\n",
       "\\item 'Game'\n",
       "\\item 'Count'\n",
       "\\item 'Conf Game'\n",
       "\\item 'Week'\n",
       "\\item 'Winning'\n",
       "\\item 'Winning Conference'\n",
       "\\item 'Winning H/A/N'\n",
       "\\item 'Winning Points'\n",
       "\\item 'Winning F/U'\n",
       "\\item 'Winning Cover'\n",
       "\\item 'Winning Spread'\n",
       "\\item 'Winning O/U'\n",
       "\\item 'Winning Passes'\n",
       "\\item 'Winning Pass Yards'\n",
       "\\item 'Winning YPPA'\n",
       "\\item 'Winning Rushes'\n",
       "\\item 'Winning Rush Yards'\n",
       "\\item 'Winning YPRA'\n",
       "\\item 'Winning Plays'\n",
       "\\item 'Winning Total Yards'\n",
       "\\item 'Winning YPP'\n",
       "\\item 'Winning TO'\n",
       "\\item 'Winning Pen Yards'\n",
       "\\item 'Winning TOP'\n",
       "\\item 'Field25'\n",
       "\\item 'Losing'\n",
       "\\item 'Losing Conference'\n",
       "\\item 'Losing H/A/N'\n",
       "\\item 'Losing Points'\n",
       "\\item 'Losing F/U'\n",
       "\\item 'Losing Cover'\n",
       "\\item 'Losing Spread'\n",
       "\\item 'Losing O/U'\n",
       "\\item 'Losing Passes'\n",
       "\\item 'Losing Pass Yards'\n",
       "\\item 'Losing YPPA'\n",
       "\\item 'Losing Rush Attempts'\n",
       "\\item 'Losing Rush Yards'\n",
       "\\item 'Losing YPRA'\n",
       "\\item 'Losing Total Plays'\n",
       "\\item 'Losing Total Yards'\n",
       "\\item 'Losing YPP'\n",
       "\\item 'Losing TO'\n",
       "\\item 'Losing Pen Yards'\n",
       "\\item 'Losing TOP'\n",
       "\\item 'OT?'\n",
       "\\item 'Thursday?'\n",
       "\\item 'TOP VERIFICATION'\n",
       "\\item 'O/U Total'\n",
       "\\item 'Tot Yard Dif'\n",
       "\\item 'TO Margin'\n",
       "\\end{enumerate*}\n"
      ],
      "text/markdown": [
       "1. 'Year'\n",
       "2. 'Game'\n",
       "3. 'Count'\n",
       "4. 'Conf Game'\n",
       "5. 'Week'\n",
       "6. 'Winning'\n",
       "7. 'Winning Conference'\n",
       "8. 'Winning H/A/N'\n",
       "9. 'Winning Points'\n",
       "10. 'Winning F/U'\n",
       "11. 'Winning Cover'\n",
       "12. 'Winning Spread'\n",
       "13. 'Winning O/U'\n",
       "14. 'Winning Passes'\n",
       "15. 'Winning Pass Yards'\n",
       "16. 'Winning YPPA'\n",
       "17. 'Winning Rushes'\n",
       "18. 'Winning Rush Yards'\n",
       "19. 'Winning YPRA'\n",
       "20. 'Winning Plays'\n",
       "21. 'Winning Total Yards'\n",
       "22. 'Winning YPP'\n",
       "23. 'Winning TO'\n",
       "24. 'Winning Pen Yards'\n",
       "25. 'Winning TOP'\n",
       "26. 'Field25'\n",
       "27. 'Losing'\n",
       "28. 'Losing Conference'\n",
       "29. 'Losing H/A/N'\n",
       "30. 'Losing Points'\n",
       "31. 'Losing F/U'\n",
       "32. 'Losing Cover'\n",
       "33. 'Losing Spread'\n",
       "34. 'Losing O/U'\n",
       "35. 'Losing Passes'\n",
       "36. 'Losing Pass Yards'\n",
       "37. 'Losing YPPA'\n",
       "38. 'Losing Rush Attempts'\n",
       "39. 'Losing Rush Yards'\n",
       "40. 'Losing YPRA'\n",
       "41. 'Losing Total Plays'\n",
       "42. 'Losing Total Yards'\n",
       "43. 'Losing YPP'\n",
       "44. 'Losing TO'\n",
       "45. 'Losing Pen Yards'\n",
       "46. 'Losing TOP'\n",
       "47. 'OT?'\n",
       "48. 'Thursday?'\n",
       "49. 'TOP VERIFICATION'\n",
       "50. 'O/U Total'\n",
       "51. 'Tot Yard Dif'\n",
       "52. 'TO Margin'\n",
       "\n",
       "\n"
      ],
      "text/plain": [
       " [1] \"Year\"                 \"Game\"                 \"Count\"               \n",
       " [4] \"Conf Game\"            \"Week\"                 \"Winning\"             \n",
       " [7] \"Winning Conference\"   \"Winning H/A/N\"        \"Winning Points\"      \n",
       "[10] \"Winning F/U\"          \"Winning Cover\"        \"Winning Spread\"      \n",
       "[13] \"Winning O/U\"          \"Winning Passes\"       \"Winning Pass Yards\"  \n",
       "[16] \"Winning YPPA\"         \"Winning Rushes\"       \"Winning Rush Yards\"  \n",
       "[19] \"Winning YPRA\"         \"Winning Plays\"        \"Winning Total Yards\" \n",
       "[22] \"Winning YPP\"          \"Winning TO\"           \"Winning Pen Yards\"   \n",
       "[25] \"Winning TOP\"          \"Field25\"              \"Losing\"              \n",
       "[28] \"Losing Conference\"    \"Losing H/A/N\"         \"Losing Points\"       \n",
       "[31] \"Losing F/U\"           \"Losing Cover\"         \"Losing Spread\"       \n",
       "[34] \"Losing O/U\"           \"Losing Passes\"        \"Losing Pass Yards\"   \n",
       "[37] \"Losing YPPA\"          \"Losing Rush Attempts\" \"Losing Rush Yards\"   \n",
       "[40] \"Losing YPRA\"          \"Losing Total Plays\"   \"Losing Total Yards\"  \n",
       "[43] \"Losing YPP\"           \"Losing TO\"            \"Losing Pen Yards\"    \n",
       "[46] \"Losing TOP\"           \"OT?\"                  \"Thursday?\"           \n",
       "[49] \"TOP VERIFICATION\"     \"O/U Total\"            \"Tot Yard Dif\"        \n",
       "[52] \"TO Margin\"           "
      ]
     },
     "metadata": {},
     "output_type": "display_data"
    }
   ],
   "source": [
    "colnames(cfb)"
   ]
  },
  {
   "cell_type": "code",
   "execution_count": 75,
   "metadata": {},
   "outputs": [
    {
     "data": {
      "text/html": [
       "<table>\n",
       "<thead><tr><th scope=col>Conference</th><th scope=col>Team</th></tr></thead>\n",
       "<tbody>\n",
       "\t<tr><td>Big 10        </td><td>Michigan      </td></tr>\n",
       "\t<tr><td>Big 10        </td><td>Illinois      </td></tr>\n",
       "\t<tr><td>Big 10        </td><td>Penn State    </td></tr>\n",
       "\t<tr><td>Big 10        </td><td>Michigan State</td></tr>\n",
       "\t<tr><td>Big 10        </td><td>Wisconsin     </td></tr>\n",
       "\t<tr><td>Big 10        </td><td>Purdue        </td></tr>\n",
       "\t<tr><td>Big 10        </td><td>Nebraska      </td></tr>\n",
       "\t<tr><td>Big 10        </td><td>Ohio State    </td></tr>\n",
       "\t<tr><td>Big 10        </td><td>Iowa          </td></tr>\n",
       "\t<tr><td>Big 10        </td><td>Northwestern  </td></tr>\n",
       "\t<tr><td>Big 10        </td><td>Minnesota     </td></tr>\n",
       "\t<tr><td>Big 10        </td><td>Indiana       </td></tr>\n",
       "\t<tr><td>Big 10        </td><td>Maryland      </td></tr>\n",
       "\t<tr><td>Big 10        </td><td>Rutgers       </td></tr>\n",
       "</tbody>\n",
       "</table>\n"
      ],
      "text/latex": [
       "\\begin{tabular}{r|ll}\n",
       " Conference & Team\\\\\n",
       "\\hline\n",
       "\t Big 10         & Michigan      \\\\\n",
       "\t Big 10         & Illinois      \\\\\n",
       "\t Big 10         & Penn State    \\\\\n",
       "\t Big 10         & Michigan State\\\\\n",
       "\t Big 10         & Wisconsin     \\\\\n",
       "\t Big 10         & Purdue        \\\\\n",
       "\t Big 10         & Nebraska      \\\\\n",
       "\t Big 10         & Ohio State    \\\\\n",
       "\t Big 10         & Iowa          \\\\\n",
       "\t Big 10         & Northwestern  \\\\\n",
       "\t Big 10         & Minnesota     \\\\\n",
       "\t Big 10         & Indiana       \\\\\n",
       "\t Big 10         & Maryland      \\\\\n",
       "\t Big 10         & Rutgers       \\\\\n",
       "\\end{tabular}\n"
      ],
      "text/markdown": [
       "\n",
       "Conference | Team | \n",
       "|---|---|---|---|---|---|---|---|---|---|---|---|---|---|\n",
       "| Big 10         | Michigan       | \n",
       "| Big 10         | Illinois       | \n",
       "| Big 10         | Penn State     | \n",
       "| Big 10         | Michigan State | \n",
       "| Big 10         | Wisconsin      | \n",
       "| Big 10         | Purdue         | \n",
       "| Big 10         | Nebraska       | \n",
       "| Big 10         | Ohio State     | \n",
       "| Big 10         | Iowa           | \n",
       "| Big 10         | Northwestern   | \n",
       "| Big 10         | Minnesota      | \n",
       "| Big 10         | Indiana        | \n",
       "| Big 10         | Maryland       | \n",
       "| Big 10         | Rutgers        | \n",
       "\n",
       "\n"
      ],
      "text/plain": [
       "   Conference Team          \n",
       "1  Big 10     Michigan      \n",
       "2  Big 10     Illinois      \n",
       "3  Big 10     Penn State    \n",
       "4  Big 10     Michigan State\n",
       "5  Big 10     Wisconsin     \n",
       "6  Big 10     Purdue        \n",
       "7  Big 10     Nebraska      \n",
       "8  Big 10     Ohio State    \n",
       "9  Big 10     Iowa          \n",
       "10 Big 10     Northwestern  \n",
       "11 Big 10     Minnesota     \n",
       "12 Big 10     Indiana       \n",
       "13 Big 10     Maryland      \n",
       "14 Big 10     Rutgers       "
      ]
     },
     "metadata": {},
     "output_type": "display_data"
    }
   ],
   "source": [
    "# Finding Big 10 teams\n",
    "cfb %>% glimpse"
   ]
  },
  {
   "cell_type": "code",
   "execution_count": 9,
   "metadata": {},
   "outputs": [
    {
     "name": "stderr",
     "output_type": "stream",
     "text": [
      "Loading required package: nycflights13\n",
      "Warning message:\n",
      "\"package 'nycflights13' was built under R version 3.4.3\""
     ]
    }
   ],
   "source": [
    "require(nycflights13)"
   ]
  },
  {
   "cell_type": "code",
   "execution_count": 141,
   "metadata": {},
   "outputs": [
    {
     "name": "stderr",
     "output_type": "stream",
     "text": [
      "Joining, by = c(\"year\", \"month\", \"day\")\n"
     ]
    },
    {
     "data": {
      "text/html": [
       "103621"
      ],
      "text/latex": [
       "103621"
      ],
      "text/markdown": [
       "103621"
      ],
      "text/plain": [
       "[1] 103621"
      ]
     },
     "metadata": {},
     "output_type": "display_data"
    }
   ],
   "source": [
    "# Rainyday"
   ]
  },
  {
   "cell_type": "markdown",
   "metadata": {},
   "source": [
    "## Which month had the most missing departure time? How many are missing?"
   ]
  },
  {
   "cell_type": "code",
   "execution_count": null,
   "metadata": {},
   "outputs": [],
   "source": []
  },
  {
   "cell_type": "markdown",
   "metadata": {},
   "source": [
    "## In February, how many of the canceled flights were on snowy days? \n",
    "Let's define snowy days to be similar to rainy days. a) the min temp is less than or equal to freezing and b) precipitation occured during one or more hours in the day"
   ]
  },
  {
   "cell_type": "code",
   "execution_count": 161,
   "metadata": {},
   "outputs": [
    {
     "data": {
      "text/html": [
       "0.803330689928628"
      ],
      "text/latex": [
       "0.803330689928628"
      ],
      "text/markdown": [
       "0.803330689928628"
      ],
      "text/plain": [
       "[1] 0.8033307"
      ]
     },
     "metadata": {},
     "output_type": "display_data"
    }
   ],
   "source": []
  },
  {
   "cell_type": "markdown",
   "metadata": {},
   "source": [
    "## Make a bar plot of each month filled with rainy, snowy, and no precipitation day"
   ]
  },
  {
   "cell_type": "code",
   "execution_count": 159,
   "metadata": {
    "scrolled": false
   },
   "outputs": [
    {
     "data": {},
     "metadata": {},
     "output_type": "display_data"
    },
    {
     "data": {
      "image/png": "[encoded data removed]",
      "text/plain": [
       "plot without title"
      ]
     },
     "metadata": {},
     "output_type": "display_data"
    }
   ],
   "source": []
  }
 ],
 "metadata": {
  "kernelspec": {
   "display_name": "R",
   "language": "R",
   "name": "ir"
  },
  "language_info": {
   "codemirror_mode": "r",
   "file_extension": ".r",
   "mimetype": "text/x-r-source",
   "name": "R",
   "pygments_lexer": "r",
   "version": "3.6.1"
  }
 },
 "nbformat": 4,
 "nbformat_minor": 2
}
