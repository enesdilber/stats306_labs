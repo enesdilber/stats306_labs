{
 "cells": [
  {
   "cell_type": "markdown",
   "metadata": {},
   "source": [
    "# Lab 5: Data manipulation\n"
   ]
  },
  {
   "cell_type": "code",
   "execution_count": 3,
   "metadata": {},
   "outputs": [
    {
     "name": "stderr",
     "output_type": "stream",
     "text": [
      "Loading required package: tidyverse\n",
      "Registered S3 methods overwritten by 'ggplot2':\n",
      "  method         from \n",
      "  [.quosures     rlang\n",
      "  c.quosures     rlang\n",
      "  print.quosures rlang\n",
      "Registered S3 method overwritten by 'rvest':\n",
      "  method            from\n",
      "  read_xml.response xml2\n",
      "── Attaching packages ─────────────────────────────────────── tidyverse 1.2.1 ──\n",
      "✔ ggplot2 3.1.1       ✔ purrr   0.3.2  \n",
      "✔ tibble  2.1.1       ✔ dplyr   0.8.0.1\n",
      "✔ tidyr   0.8.3       ✔ stringr 1.4.0  \n",
      "✔ readr   1.3.1       ✔ forcats 0.4.0  \n",
      "── Conflicts ────────────────────────────────────────── tidyverse_conflicts() ──\n",
      "✖ dplyr::filter() masks stats::filter()\n",
      "✖ dplyr::lag()    masks stats::lag()\n"
     ]
    }
   ],
   "source": [
    "require(tidyverse)\n",
    "require(stringr)"
   ]
  },
  {
   "cell_type": "markdown",
   "metadata": {},
   "source": [
    "## Tibble miscellanea"
   ]
  },
  {
   "cell_type": "markdown",
   "metadata": {},
   "source": [
    "Remember that you can create tibbles with `tibble` or `tribble`, where `tribble` is often easier to create small tables that are readible in your code."
   ]
  },
  {
   "cell_type": "code",
   "execution_count": 2,
   "metadata": {},
   "outputs": [
    {
     "data": {
      "text/html": [
       "<table>\n",
       "<thead><tr><th scope=col>x</th><th scope=col>y</th><th scope=col>z z</th></tr></thead>\n",
       "<tbody>\n",
       "\t<tr><td>a  </td><td>2  </td><td>3.6</td></tr>\n",
       "\t<tr><td>b  </td><td>1  </td><td>8.5</td></tr>\n",
       "</tbody>\n",
       "</table>\n"
      ],
      "text/latex": [
       "\\begin{tabular}{r|lll}\n",
       " x & y & z z\\\\\n",
       "\\hline\n",
       "\t a   & 2   & 3.6\\\\\n",
       "\t b   & 1   & 8.5\\\\\n",
       "\\end{tabular}\n"
      ],
      "text/markdown": [
       "\n",
       "x | y | z z | \n",
       "|---|---|\n",
       "| a   | 2   | 3.6 | \n",
       "| b   | 1   | 8.5 | \n",
       "\n",
       "\n"
      ],
      "text/plain": [
       "  x y z z\n",
       "1 a 2 3.6\n",
       "2 b 1 8.5"
      ]
     },
     "metadata": {},
     "output_type": "display_data"
    },
    {
     "data": {
      "text/html": [
       "TRUE"
      ],
      "text/latex": [
       "TRUE"
      ],
      "text/markdown": [
       "TRUE"
      ],
      "text/plain": [
       "[1] TRUE"
      ]
     },
     "metadata": {},
     "output_type": "display_data"
    }
   ],
   "source": [
    "mydat = tibble(x=c('a', 'b'), y=c(2, 1), `z z`=c(3.6, 8.5))\n",
    "\n",
    "mydat1 = tribble(\n",
    "  ~x, ~y, ~`z z`,\n",
    "  'a', 2, 3.6,\n",
    "  'b', 1, 8.5\n",
    ")\n",
    "\n",
    "mydat\n",
    "identical(mydat, mydat1)"
   ]
  },
  {
   "cell_type": "markdown",
   "metadata": {},
   "source": [
    "### Subsetting\n",
    "\n",
    "For selecting variables out of tibbles, you can use `$` or `[[ ]]` (in addition to `select`).\n",
    "* `$` only selects by name and requires you to hard-code in the variable name.\n",
    "* `[[ ]]` selects by name or position and takes an argument, which can be a hard-coded string or a variable.\n"
   ]
  },
  {
   "cell_type": "code",
   "execution_count": 3,
   "metadata": {},
   "outputs": [
    {
     "data": {
      "text/html": [
       "<table>\n",
       "<thead><tr><th scope=col>x</th><th scope=col>y</th><th scope=col>z z</th></tr></thead>\n",
       "<tbody>\n",
       "\t<tr><td>a  </td><td>2  </td><td>3.6</td></tr>\n",
       "\t<tr><td>b  </td><td>1  </td><td>8.5</td></tr>\n",
       "</tbody>\n",
       "</table>\n"
      ],
      "text/latex": [
       "\\begin{tabular}{r|lll}\n",
       " x & y & z z\\\\\n",
       "\\hline\n",
       "\t a   & 2   & 3.6\\\\\n",
       "\t b   & 1   & 8.5\\\\\n",
       "\\end{tabular}\n"
      ],
      "text/markdown": [
       "\n",
       "x | y | z z | \n",
       "|---|---|\n",
       "| a   | 2   | 3.6 | \n",
       "| b   | 1   | 8.5 | \n",
       "\n",
       "\n"
      ],
      "text/plain": [
       "  x y z z\n",
       "1 a 2 3.6\n",
       "2 b 1 8.5"
      ]
     },
     "metadata": {},
     "output_type": "display_data"
    }
   ],
   "source": [
    "mydat"
   ]
  },
  {
   "cell_type": "code",
   "execution_count": 4,
   "metadata": {},
   "outputs": [
    {
     "data": {
      "text/html": [
       "<ol class=list-inline>\n",
       "\t<li>'a'</li>\n",
       "\t<li>'b'</li>\n",
       "</ol>\n"
      ],
      "text/latex": [
       "\\begin{enumerate*}\n",
       "\\item 'a'\n",
       "\\item 'b'\n",
       "\\end{enumerate*}\n"
      ],
      "text/markdown": [
       "1. 'a'\n",
       "2. 'b'\n",
       "\n",
       "\n"
      ],
      "text/plain": [
       "[1] \"a\" \"b\""
      ]
     },
     "metadata": {},
     "output_type": "display_data"
    }
   ],
   "source": [
    "mydat$x"
   ]
  },
  {
   "cell_type": "code",
   "execution_count": 5,
   "metadata": {},
   "outputs": [
    {
     "data": {
      "text/html": [
       "<ol class=list-inline>\n",
       "\t<li>'a'</li>\n",
       "\t<li>'b'</li>\n",
       "</ol>\n"
      ],
      "text/latex": [
       "\\begin{enumerate*}\n",
       "\\item 'a'\n",
       "\\item 'b'\n",
       "\\end{enumerate*}\n"
      ],
      "text/markdown": [
       "1. 'a'\n",
       "2. 'b'\n",
       "\n",
       "\n"
      ],
      "text/plain": [
       "[1] \"a\" \"b\""
      ]
     },
     "metadata": {},
     "output_type": "display_data"
    },
    {
     "data": {
      "text/html": [
       "<ol class=list-inline>\n",
       "\t<li>'a'</li>\n",
       "\t<li>'b'</li>\n",
       "</ol>\n"
      ],
      "text/latex": [
       "\\begin{enumerate*}\n",
       "\\item 'a'\n",
       "\\item 'b'\n",
       "\\end{enumerate*}\n"
      ],
      "text/markdown": [
       "1. 'a'\n",
       "2. 'b'\n",
       "\n",
       "\n"
      ],
      "text/plain": [
       "[1] \"a\" \"b\""
      ]
     },
     "metadata": {},
     "output_type": "display_data"
    }
   ],
   "source": [
    "mydat[['x']]\n",
    "mydat[[1]]"
   ]
  },
  {
   "cell_type": "code",
   "execution_count": null,
   "metadata": {},
   "outputs": [],
   "source": []
  },
  {
   "cell_type": "code",
   "execution_count": 6,
   "metadata": {},
   "outputs": [
    {
     "ename": "ERROR",
     "evalue": "Error in `[[.tbl_df`(mydat, x): object 'x' not found\n",
     "output_type": "error",
     "traceback": [
      "Error in `[[.tbl_df`(mydat, x): object 'x' not found\nTraceback:\n",
      "1. mydat[[x]]",
      "2. `[[.tbl_df`(mydat, x)"
     ]
    }
   ],
   "source": [
    "mydat[[x]]"
   ]
  },
  {
   "cell_type": "code",
   "execution_count": 8,
   "metadata": {},
   "outputs": [
    {
     "data": {
      "text/html": [
       "<ol class=list-inline>\n",
       "\t<li>3.6</li>\n",
       "\t<li>8.5</li>\n",
       "</ol>\n"
      ],
      "text/latex": [
       "\\begin{enumerate*}\n",
       "\\item 3.6\n",
       "\\item 8.5\n",
       "\\end{enumerate*}\n"
      ],
      "text/markdown": [
       "1. 3.6\n",
       "2. 8.5\n",
       "\n",
       "\n"
      ],
      "text/plain": [
       "[1] 3.6 8.5"
      ]
     },
     "metadata": {},
     "output_type": "display_data"
    },
    {
     "data": {
      "text/html": [
       "<ol class=list-inline>\n",
       "\t<li>3.6</li>\n",
       "\t<li>8.5</li>\n",
       "</ol>\n"
      ],
      "text/latex": [
       "\\begin{enumerate*}\n",
       "\\item 3.6\n",
       "\\item 8.5\n",
       "\\end{enumerate*}\n"
      ],
      "text/markdown": [
       "1. 3.6\n",
       "2. 8.5\n",
       "\n",
       "\n"
      ],
      "text/plain": [
       "[1] 3.6 8.5"
      ]
     },
     "metadata": {},
     "output_type": "display_data"
    }
   ],
   "source": [
    "mydat$`z z`\n",
    "mydat[['z z']]"
   ]
  },
  {
   "cell_type": "code",
   "execution_count": 9,
   "metadata": {},
   "outputs": [
    {
     "data": {
      "text/html": [
       "<ol class=list-inline>\n",
       "\t<li>3.6</li>\n",
       "\t<li>8.5</li>\n",
       "</ol>\n"
      ],
      "text/latex": [
       "\\begin{enumerate*}\n",
       "\\item 3.6\n",
       "\\item 8.5\n",
       "\\end{enumerate*}\n"
      ],
      "text/markdown": [
       "1. 3.6\n",
       "2. 8.5\n",
       "\n",
       "\n"
      ],
      "text/plain": [
       "[1] 3.6 8.5"
      ]
     },
     "metadata": {},
     "output_type": "display_data"
    }
   ],
   "source": [
    "varname = 'z z'\n",
    "mydat[[varname]]"
   ]
  },
  {
   "cell_type": "markdown",
   "metadata": {},
   "source": [
    "## Data Import\n",
    "\n",
    "The package `readr` (part of `tidyverse`) contains several functions for reading in flat data.\n",
    "\n",
    "`read_csv` reads standard comma-delimited files. There are variants like `read_csv2` (semicolon-delimited) and `read_tsv` (tab-delimited), while `read_delim` allows reading in files with any delimiter.\n",
    "\n",
    "Also note that the equivalents for writing/saving data files also exist, called `write_csv`, etc.\n",
    "\n",
    "Note that these are variants of `read.table`, `read.csv`, `write.table`, etc. which are a part of base R and can also be used for reading in files."
   ]
  },
  {
   "cell_type": "code",
   "execution_count": 11,
   "metadata": {},
   "outputs": [
    {
     "name": "stderr",
     "output_type": "stream",
     "text": [
      "Parsed with column specification:\n",
      "cols(\n",
      "  mpg = col_double(),\n",
      "  cyl = col_integer(),\n",
      "  disp = col_double(),\n",
      "  hp = col_integer(),\n",
      "  drat = col_double(),\n",
      "  wt = col_double(),\n",
      "  qsec = col_double(),\n",
      "  vs = col_integer(),\n",
      "  am = col_integer(),\n",
      "  gear = col_integer(),\n",
      "  carb = col_integer(),\n",
      "  car = col_character()\n",
      ")\n"
     ]
    },
    {
     "data": {
      "text/html": [
       "<table>\n",
       "<thead><tr><th scope=col>mpg</th><th scope=col>cyl</th><th scope=col>disp</th><th scope=col>hp</th><th scope=col>drat</th><th scope=col>wt</th><th scope=col>qsec</th><th scope=col>vs</th><th scope=col>am</th><th scope=col>gear</th><th scope=col>carb</th><th scope=col>car</th></tr></thead>\n",
       "<tbody>\n",
       "\t<tr><td>21.0             </td><td>6                </td><td>160              </td><td>110              </td><td>3.90             </td><td>2.620            </td><td>16.46            </td><td>0                </td><td>1                </td><td>4                </td><td>4                </td><td>Mazda RX4        </td></tr>\n",
       "\t<tr><td>21.0             </td><td>6                </td><td>160              </td><td>110              </td><td>3.90             </td><td>2.875            </td><td>17.02            </td><td>0                </td><td>1                </td><td>4                </td><td>4                </td><td>Mazda RX4 Wag    </td></tr>\n",
       "\t<tr><td>22.8             </td><td>4                </td><td>108              </td><td> 93              </td><td>3.85             </td><td>2.320            </td><td>18.61            </td><td>1                </td><td>1                </td><td>4                </td><td>1                </td><td>Datsun 710       </td></tr>\n",
       "\t<tr><td>21.4             </td><td>6                </td><td>258              </td><td>110              </td><td>3.08             </td><td>3.215            </td><td>19.44            </td><td>1                </td><td>0                </td><td>3                </td><td>1                </td><td>Hornet 4 Drive   </td></tr>\n",
       "\t<tr><td>18.7             </td><td>8                </td><td>360              </td><td>175              </td><td>3.15             </td><td>3.440            </td><td>17.02            </td><td>0                </td><td>0                </td><td>3                </td><td>2                </td><td>Hornet Sportabout</td></tr>\n",
       "\t<tr><td>18.1             </td><td>6                </td><td>225              </td><td>105              </td><td>2.76             </td><td>3.460            </td><td>20.22            </td><td>1                </td><td>0                </td><td>3                </td><td>1                </td><td>Valiant          </td></tr>\n",
       "</tbody>\n",
       "</table>\n"
      ],
      "text/latex": [
       "\\begin{tabular}{r|llllllllllll}\n",
       " mpg & cyl & disp & hp & drat & wt & qsec & vs & am & gear & carb & car\\\\\n",
       "\\hline\n",
       "\t 21.0              & 6                 & 160               & 110               & 3.90              & 2.620             & 16.46             & 0                 & 1                 & 4                 & 4                 & Mazda RX4        \\\\\n",
       "\t 21.0              & 6                 & 160               & 110               & 3.90              & 2.875             & 17.02             & 0                 & 1                 & 4                 & 4                 & Mazda RX4 Wag    \\\\\n",
       "\t 22.8              & 4                 & 108               &  93               & 3.85              & 2.320             & 18.61             & 1                 & 1                 & 4                 & 1                 & Datsun 710       \\\\\n",
       "\t 21.4              & 6                 & 258               & 110               & 3.08              & 3.215             & 19.44             & 1                 & 0                 & 3                 & 1                 & Hornet 4 Drive   \\\\\n",
       "\t 18.7              & 8                 & 360               & 175               & 3.15              & 3.440             & 17.02             & 0                 & 0                 & 3                 & 2                 & Hornet Sportabout\\\\\n",
       "\t 18.1              & 6                 & 225               & 105               & 2.76              & 3.460             & 20.22             & 1                 & 0                 & 3                 & 1                 & Valiant          \\\\\n",
       "\\end{tabular}\n"
      ],
      "text/markdown": [
       "\n",
       "mpg | cyl | disp | hp | drat | wt | qsec | vs | am | gear | carb | car | \n",
       "|---|---|---|---|---|---|\n",
       "| 21.0              | 6                 | 160               | 110               | 3.90              | 2.620             | 16.46             | 0                 | 1                 | 4                 | 4                 | Mazda RX4         | \n",
       "| 21.0              | 6                 | 160               | 110               | 3.90              | 2.875             | 17.02             | 0                 | 1                 | 4                 | 4                 | Mazda RX4 Wag     | \n",
       "| 22.8              | 4                 | 108               |  93               | 3.85              | 2.320             | 18.61             | 1                 | 1                 | 4                 | 1                 | Datsun 710        | \n",
       "| 21.4              | 6                 | 258               | 110               | 3.08              | 3.215             | 19.44             | 1                 | 0                 | 3                 | 1                 | Hornet 4 Drive    | \n",
       "| 18.7              | 8                 | 360               | 175               | 3.15              | 3.440             | 17.02             | 0                 | 0                 | 3                 | 2                 | Hornet Sportabout | \n",
       "| 18.1              | 6                 | 225               | 105               | 2.76              | 3.460             | 20.22             | 1                 | 0                 | 3                 | 1                 | Valiant           | \n",
       "\n",
       "\n"
      ],
      "text/plain": [
       "  mpg  cyl disp hp  drat wt    qsec  vs am gear carb car              \n",
       "1 21.0 6   160  110 3.90 2.620 16.46 0  1  4    4    Mazda RX4        \n",
       "2 21.0 6   160  110 3.90 2.875 17.02 0  1  4    4    Mazda RX4 Wag    \n",
       "3 22.8 4   108   93 3.85 2.320 18.61 1  1  4    1    Datsun 710       \n",
       "4 21.4 6   258  110 3.08 3.215 19.44 1  0  3    1    Hornet 4 Drive   \n",
       "5 18.7 8   360  175 3.15 3.440 17.02 0  0  3    2    Hornet Sportabout\n",
       "6 18.1 6   225  105 2.76 3.460 20.22 1  0  3    1    Valiant          "
      ]
     },
     "metadata": {},
     "output_type": "display_data"
    }
   ],
   "source": [
    "mtcars$car = rownames(mtcars)\n",
    "\n",
    "write_csv(mtcars, \"mtcars.csv\")\n",
    "mydat = read_csv(\"mtcars.csv\")\n",
    "head(mydat)"
   ]
  },
  {
   "cell_type": "markdown",
   "metadata": {},
   "source": [
    "Notice that `readr` gets its column names from the first row of the CSV. If the first lines are metadata instead of column names, you can use the following to skip those lines."
   ]
  },
  {
   "cell_type": "code",
   "execution_count": 12,
   "metadata": {},
   "outputs": [
    {
     "data": {
      "text/html": [
       "<table>\n",
       "<thead><tr><th scope=col>x</th><th scope=col>y</th><th scope=col>z</th></tr></thead>\n",
       "<tbody>\n",
       "\t<tr><td>1</td><td>2</td><td>3</td></tr>\n",
       "</tbody>\n",
       "</table>\n"
      ],
      "text/latex": [
       "\\begin{tabular}{r|lll}\n",
       " x & y & z\\\\\n",
       "\\hline\n",
       "\t 1 & 2 & 3\\\\\n",
       "\\end{tabular}\n"
      ],
      "text/markdown": [
       "\n",
       "x | y | z | \n",
       "|---|\n",
       "| 1 | 2 | 3 | \n",
       "\n",
       "\n"
      ],
      "text/plain": [
       "  x y z\n",
       "1 1 2 3"
      ]
     },
     "metadata": {},
     "output_type": "display_data"
    }
   ],
   "source": [
    "read_csv(\n",
    "\"The first line of metadata\n",
    "The second line of metadata\n",
    "x,y,z\n",
    "1,2,3\", skip=2) # sdsadsadsa"
   ]
  },
  {
   "cell_type": "code",
   "execution_count": 13,
   "metadata": {},
   "outputs": [
    {
     "data": {
      "text/html": [
       "<table>\n",
       "<thead><tr><th scope=col>x</th><th scope=col>y</th><th scope=col>z</th></tr></thead>\n",
       "<tbody>\n",
       "\t<tr><td>1</td><td>2</td><td>3</td></tr>\n",
       "</tbody>\n",
       "</table>\n"
      ],
      "text/latex": [
       "\\begin{tabular}{r|lll}\n",
       " x & y & z\\\\\n",
       "\\hline\n",
       "\t 1 & 2 & 3\\\\\n",
       "\\end{tabular}\n"
      ],
      "text/markdown": [
       "\n",
       "x | y | z | \n",
       "|---|\n",
       "| 1 | 2 | 3 | \n",
       "\n",
       "\n"
      ],
      "text/plain": [
       "  x y z\n",
       "1 1 2 3"
      ]
     },
     "metadata": {},
     "output_type": "display_data"
    }
   ],
   "source": [
    "read_csv(\n",
    "\"# A comment I want to skip\n",
    "x,y,z\n",
    "1,2,3\", comment='#')"
   ]
  },
  {
   "cell_type": "markdown",
   "metadata": {},
   "source": [
    "Sometimes the columns don't have names. Then you can tell `readr` to create the column names."
   ]
  },
  {
   "cell_type": "code",
   "execution_count": 14,
   "metadata": {},
   "outputs": [
    {
     "data": {
      "text/html": [
       "<table>\n",
       "<thead><tr><th scope=col>X1</th><th scope=col>X2</th><th scope=col>X3</th></tr></thead>\n",
       "<tbody>\n",
       "\t<tr><td>1</td><td>2</td><td>3</td></tr>\n",
       "\t<tr><td>4</td><td>5</td><td>6</td></tr>\n",
       "</tbody>\n",
       "</table>\n"
      ],
      "text/latex": [
       "\\begin{tabular}{r|lll}\n",
       " X1 & X2 & X3\\\\\n",
       "\\hline\n",
       "\t 1 & 2 & 3\\\\\n",
       "\t 4 & 5 & 6\\\\\n",
       "\\end{tabular}\n"
      ],
      "text/markdown": [
       "\n",
       "X1 | X2 | X3 | \n",
       "|---|---|\n",
       "| 1 | 2 | 3 | \n",
       "| 4 | 5 | 6 | \n",
       "\n",
       "\n"
      ],
      "text/plain": [
       "  X1 X2 X3\n",
       "1 1  2  3 \n",
       "2 4  5  6 "
      ]
     },
     "metadata": {},
     "output_type": "display_data"
    }
   ],
   "source": [
    "read_csv(\n",
    "\"1,2,3\n",
    "4,5,6\", col_names=FALSE)"
   ]
  },
  {
   "cell_type": "code",
   "execution_count": 15,
   "metadata": {},
   "outputs": [
    {
     "data": {
      "text/html": [
       "<table>\n",
       "<thead><tr><th scope=col>x</th><th scope=col>y</th><th scope=col>z</th></tr></thead>\n",
       "<tbody>\n",
       "\t<tr><td>1</td><td>2</td><td>3</td></tr>\n",
       "\t<tr><td>4</td><td>5</td><td>6</td></tr>\n",
       "</tbody>\n",
       "</table>\n"
      ],
      "text/latex": [
       "\\begin{tabular}{r|lll}\n",
       " x & y & z\\\\\n",
       "\\hline\n",
       "\t 1 & 2 & 3\\\\\n",
       "\t 4 & 5 & 6\\\\\n",
       "\\end{tabular}\n"
      ],
      "text/markdown": [
       "\n",
       "x | y | z | \n",
       "|---|---|\n",
       "| 1 | 2 | 3 | \n",
       "| 4 | 5 | 6 | \n",
       "\n",
       "\n"
      ],
      "text/plain": [
       "  x y z\n",
       "1 1 2 3\n",
       "2 4 5 6"
      ]
     },
     "metadata": {},
     "output_type": "display_data"
    }
   ],
   "source": [
    "read_csv(\n",
    "\"1,2,3\n",
    "4,5,6\", col_names=c(\"x\", \"y\", \"z\"))"
   ]
  },
  {
   "cell_type": "markdown",
   "metadata": {},
   "source": [
    "Another option that commonly needs tweaking is `na`: this specifies the value (or values) that are used to represent missing values in your file:"
   ]
  },
  {
   "cell_type": "code",
   "execution_count": 16,
   "metadata": {},
   "outputs": [
    {
     "data": {
      "text/html": [
       "<table>\n",
       "<thead><tr><th scope=col>a</th><th scope=col>b</th><th scope=col>c</th></tr></thead>\n",
       "<tbody>\n",
       "\t<tr><td>1 </td><td>2 </td><td>NA</td></tr>\n",
       "</tbody>\n",
       "</table>\n"
      ],
      "text/latex": [
       "\\begin{tabular}{r|lll}\n",
       " a & b & c\\\\\n",
       "\\hline\n",
       "\t 1  & 2  & NA\\\\\n",
       "\\end{tabular}\n"
      ],
      "text/markdown": [
       "\n",
       "a | b | c | \n",
       "|---|\n",
       "| 1  | 2  | NA | \n",
       "\n",
       "\n"
      ],
      "text/plain": [
       "  a b c \n",
       "1 1 2 NA"
      ]
     },
     "metadata": {},
     "output_type": "display_data"
    }
   ],
   "source": [
    "read_csv(\n",
    "\"a,b,c\n",
    "1,2,.\", na='.')"
   ]
  },
  {
   "cell_type": "markdown",
   "metadata": {},
   "source": [
    "## `gather` and `spread`"
   ]
  },
  {
   "cell_type": "markdown",
   "metadata": {},
   "source": [
    "Remember that `gather` transforms datasets from \"wide\" to \"long,\" collecting different column names into a variable. `spread` does the opposite, turning \"long\" datasets into \"wide\" ones by spreading out a variable's values into the column names."
   ]
  },
  {
   "cell_type": "code",
   "execution_count": 4,
   "metadata": {},
   "outputs": [
    {
     "data": {
      "text/html": [
       "<table>\n",
       "<thead><tr><th scope=col>name</th><th scope=col>2015</th><th scope=col>2016</th><th scope=col>2017</th></tr></thead>\n",
       "<tbody>\n",
       "\t<tr><td>Roger</td><td>83   </td><td>89   </td><td>93   </td></tr>\n",
       "\t<tr><td>Jon  </td><td>92   </td><td>90   </td><td>93   </td></tr>\n",
       "</tbody>\n",
       "</table>\n"
      ],
      "text/latex": [
       "\\begin{tabular}{r|llll}\n",
       " name & 2015 & 2016 & 2017\\\\\n",
       "\\hline\n",
       "\t Roger & 83    & 89    & 93   \\\\\n",
       "\t Jon   & 92    & 90    & 93   \\\\\n",
       "\\end{tabular}\n"
      ],
      "text/markdown": [
       "\n",
       "| name | 2015 | 2016 | 2017 |\n",
       "|---|---|---|---|\n",
       "| Roger | 83    | 89    | 93    |\n",
       "| Jon   | 92    | 90    | 93    |\n",
       "\n"
      ],
      "text/plain": [
       "  name  2015 2016 2017\n",
       "1 Roger 83   89   93  \n",
       "2 Jon   92   90   93  "
      ]
     },
     "metadata": {},
     "output_type": "display_data"
    }
   ],
   "source": [
    "grades_wide = tribble(\n",
    "  ~name,  ~`2015`, ~`2016`, ~`2017`,\n",
    "'Roger',       83,      89,      93,\n",
    "  'Jon',       92,      90,      93)\n",
    "grades_wide"
   ]
  },
  {
   "cell_type": "code",
   "execution_count": 7,
   "metadata": {},
   "outputs": [
    {
     "data": {
      "text/html": [
       "<table>\n",
       "<thead><tr><th scope=col>name</th><th scope=col>year</th><th scope=col>grade</th></tr></thead>\n",
       "<tbody>\n",
       "\t<tr><td>Roger</td><td>2015 </td><td>83   </td></tr>\n",
       "\t<tr><td>Jon  </td><td>2015 </td><td>92   </td></tr>\n",
       "\t<tr><td>Roger</td><td>2016 </td><td>89   </td></tr>\n",
       "\t<tr><td>Jon  </td><td>2016 </td><td>90   </td></tr>\n",
       "\t<tr><td>Roger</td><td>2017 </td><td>93   </td></tr>\n",
       "\t<tr><td>Jon  </td><td>2017 </td><td>93   </td></tr>\n",
       "</tbody>\n",
       "</table>\n"
      ],
      "text/latex": [
       "\\begin{tabular}{r|lll}\n",
       " name & year & grade\\\\\n",
       "\\hline\n",
       "\t Roger & 2015  & 83   \\\\\n",
       "\t Jon   & 2015  & 92   \\\\\n",
       "\t Roger & 2016  & 89   \\\\\n",
       "\t Jon   & 2016  & 90   \\\\\n",
       "\t Roger & 2017  & 93   \\\\\n",
       "\t Jon   & 2017  & 93   \\\\\n",
       "\\end{tabular}\n"
      ],
      "text/markdown": [
       "\n",
       "| name | year | grade |\n",
       "|---|---|---|\n",
       "| Roger | 2015  | 83    |\n",
       "| Jon   | 2015  | 92    |\n",
       "| Roger | 2016  | 89    |\n",
       "| Jon   | 2016  | 90    |\n",
       "| Roger | 2017  | 93    |\n",
       "| Jon   | 2017  | 93    |\n",
       "\n"
      ],
      "text/plain": [
       "  name  year grade\n",
       "1 Roger 2015 83   \n",
       "2 Jon   2015 92   \n",
       "3 Roger 2016 89   \n",
       "4 Jon   2016 90   \n",
       "5 Roger 2017 93   \n",
       "6 Jon   2017 93   "
      ]
     },
     "metadata": {},
     "output_type": "display_data"
    }
   ],
   "source": [
    "grades_long = grades_wide %>% gather(key=year, value=grade, `2015`:`2017`)\n",
    "grades_long"
   ]
  },
  {
   "cell_type": "code",
   "execution_count": 19,
   "metadata": {},
   "outputs": [
    {
     "data": {
      "text/html": [
       "<table>\n",
       "<thead><tr><th scope=col>name</th><th scope=col>2015</th><th scope=col>2016</th><th scope=col>2017</th></tr></thead>\n",
       "<tbody>\n",
       "\t<tr><td>Jon  </td><td>92   </td><td>90   </td><td>93   </td></tr>\n",
       "\t<tr><td>Roger</td><td>83   </td><td>89   </td><td>93   </td></tr>\n",
       "</tbody>\n",
       "</table>\n"
      ],
      "text/latex": [
       "\\begin{tabular}{r|llll}\n",
       " name & 2015 & 2016 & 2017\\\\\n",
       "\\hline\n",
       "\t Jon   & 92    & 90    & 93   \\\\\n",
       "\t Roger & 83    & 89    & 93   \\\\\n",
       "\\end{tabular}\n"
      ],
      "text/markdown": [
       "\n",
       "name | 2015 | 2016 | 2017 | \n",
       "|---|---|\n",
       "| Jon   | 92    | 90    | 93    | \n",
       "| Roger | 83    | 89    | 93    | \n",
       "\n",
       "\n"
      ],
      "text/plain": [
       "  name  2015 2016 2017\n",
       "1 Jon   92   90   93  \n",
       "2 Roger 83   89   93  "
      ]
     },
     "metadata": {},
     "output_type": "display_data"
    }
   ],
   "source": [
    "grades_long %>% spread(key=year, value=grade)"
   ]
  },
  {
   "cell_type": "markdown",
   "metadata": {},
   "source": [
    "## MLB Data\n",
    "\n",
    "This dataset contains information for player-seasons in the American League from 2015 to 2018. For those unfamiliar with baseball:\n",
    "* `PA`: Plate Appearances, the number of times a player came up to bat.\n",
    "* `HR`: number of home runs.\n",
    "* `BBrate`: The number of walks (BBs) as a percentage of plate appearances.\n",
    "* `BB`: The number of walks.\n",
    "* `K`: The number of strikeouts.\n",
    "* `AVG`: A batters batting average.\n",
    "* `FB`: The number of fly balls a batter hit.\n",
    "\n",
    "Note: Also recall the functions `unite`, `separate`, and `complete`."
   ]
  },
  {
   "cell_type": "code",
   "execution_count": 11,
   "metadata": {},
   "outputs": [
    {
     "name": "stderr",
     "output_type": "stream",
     "text": [
      "Parsed with column specification:\n",
      "cols(\n",
      "  year = col_double(),\n",
      "  name = col_character(),\n",
      "  team = col_character(),\n",
      "  division = col_character(),\n",
      "  PA = col_double(),\n",
      "  HR = col_double(),\n",
      "  BBrate = col_character(),\n",
      "  BB_K = col_character(),\n",
      "  AVG = col_double(),\n",
      "  FB = col_double(),\n",
      "  playerid = col_double()\n",
      ")\n"
     ]
    },
    {
     "data": {
      "text/html": [
       "<table>\n",
       "<thead><tr><th scope=col>year</th><th scope=col>name</th><th scope=col>team</th><th scope=col>division</th><th scope=col>PA</th><th scope=col>HR</th><th scope=col>BBrate</th><th scope=col>BB_K</th><th scope=col>AVG</th><th scope=col>FB</th><th scope=col>playerid</th></tr></thead>\n",
       "<tbody>\n",
       "\t<tr><td>2016           </td><td>Abraham Almonte</td><td>Indians        </td><td>Central        </td><td>194            </td><td>1              </td><td>4.1 %          </td><td>8/42           </td><td>0.264          </td><td>43             </td><td> 5486          </td></tr>\n",
       "\t<tr><td>2017           </td><td>Abraham Almonte</td><td>Indians        </td><td>Central        </td><td>195            </td><td>3              </td><td>10.3 %         </td><td>20/46          </td><td>0.233          </td><td>34             </td><td> 5486          </td></tr>\n",
       "\t<tr><td>2015           </td><td>Adam Moore     </td><td>Indians        </td><td>Central        </td><td>  4            </td><td>0              </td><td>0.0 %          </td><td>0/2            </td><td>0.250          </td><td> 1             </td><td> 9362          </td></tr>\n",
       "\t<tr><td>2016           </td><td>Adam Moore     </td><td>Indians        </td><td>Central        </td><td>  5            </td><td>0              </td><td>0.0 %          </td><td>0/4            </td><td>0.000          </td><td> 1             </td><td> 9362          </td></tr>\n",
       "\t<tr><td>2018           </td><td>Adam Plutko    </td><td>Indians        </td><td>Central        </td><td>  2            </td><td>0              </td><td>0.0 %          </td><td>0/0            </td><td>0.000          </td><td> 0             </td><td>15846          </td></tr>\n",
       "\t<tr><td>2018           </td><td>Adam Rosales   </td><td>Indians        </td><td>Central        </td><td> 21            </td><td>1              </td><td>4.8 %          </td><td>1/5            </td><td>0.211          </td><td> 7             </td><td> 9682          </td></tr>\n",
       "</tbody>\n",
       "</table>\n"
      ],
      "text/latex": [
       "\\begin{tabular}{r|lllllllllll}\n",
       " year & name & team & division & PA & HR & BBrate & BB\\_K & AVG & FB & playerid\\\\\n",
       "\\hline\n",
       "\t 2016            & Abraham Almonte & Indians         & Central         & 194             & 1               & 4.1 \\%         & 8/42            & 0.264           & 43              &  5486          \\\\\n",
       "\t 2017            & Abraham Almonte & Indians         & Central         & 195             & 3               & 10.3 \\%        & 20/46           & 0.233           & 34              &  5486          \\\\\n",
       "\t 2015            & Adam Moore      & Indians         & Central         &   4             & 0               & 0.0 \\%         & 0/2             & 0.250           &  1              &  9362          \\\\\n",
       "\t 2016            & Adam Moore      & Indians         & Central         &   5             & 0               & 0.0 \\%         & 0/4             & 0.000           &  1              &  9362          \\\\\n",
       "\t 2018            & Adam Plutko     & Indians         & Central         &   2             & 0               & 0.0 \\%         & 0/0             & 0.000           &  0              & 15846          \\\\\n",
       "\t 2018            & Adam Rosales    & Indians         & Central         &  21             & 1               & 4.8 \\%         & 1/5             & 0.211           &  7              &  9682          \\\\\n",
       "\\end{tabular}\n"
      ],
      "text/markdown": [
       "\n",
       "| year | name | team | division | PA | HR | BBrate | BB_K | AVG | FB | playerid |\n",
       "|---|---|---|---|---|---|---|---|---|---|---|\n",
       "| 2016            | Abraham Almonte | Indians         | Central         | 194             | 1               | 4.1 %           | 8/42            | 0.264           | 43              |  5486           |\n",
       "| 2017            | Abraham Almonte | Indians         | Central         | 195             | 3               | 10.3 %          | 20/46           | 0.233           | 34              |  5486           |\n",
       "| 2015            | Adam Moore      | Indians         | Central         |   4             | 0               | 0.0 %           | 0/2             | 0.250           |  1              |  9362           |\n",
       "| 2016            | Adam Moore      | Indians         | Central         |   5             | 0               | 0.0 %           | 0/4             | 0.000           |  1              |  9362           |\n",
       "| 2018            | Adam Plutko     | Indians         | Central         |   2             | 0               | 0.0 %           | 0/0             | 0.000           |  0              | 15846           |\n",
       "| 2018            | Adam Rosales    | Indians         | Central         |  21             | 1               | 4.8 %           | 1/5             | 0.211           |  7              |  9682           |\n",
       "\n"
      ],
      "text/plain": [
       "  year name            team    division PA  HR BBrate BB_K  AVG   FB playerid\n",
       "1 2016 Abraham Almonte Indians Central  194 1  4.1 %  8/42  0.264 43  5486   \n",
       "2 2017 Abraham Almonte Indians Central  195 3  10.3 % 20/46 0.233 34  5486   \n",
       "3 2015 Adam Moore      Indians Central    4 0  0.0 %  0/2   0.250  1  9362   \n",
       "4 2016 Adam Moore      Indians Central    5 0  0.0 %  0/4   0.000  1  9362   \n",
       "5 2018 Adam Plutko     Indians Central    2 0  0.0 %  0/0   0.000  0 15846   \n",
       "6 2018 Adam Rosales    Indians Central   21 1  4.8 %  1/5   0.211  7  9682   "
      ]
     },
     "metadata": {},
     "output_type": "display_data"
    }
   ],
   "source": [
    "mlb = read_csv('mlb.csv')\n",
    "head(mlb)"
   ]
  },
  {
   "cell_type": "markdown",
   "metadata": {},
   "source": [
    "### Problem 1\n",
    "\n",
    "Note that `BBrate` and `BB_K` were read in as strings. Clean up these variables and convert them to numeric variables, noting that `BB_K` should be two variables named `BB` and `K`."
   ]
  },
  {
   "cell_type": "code",
   "execution_count": 17,
   "metadata": {},
   "outputs": [
    {
     "data": {
      "text/html": [
       "<table>\n",
       "<thead><tr><th scope=col>year</th><th scope=col>name</th><th scope=col>team</th><th scope=col>division</th><th scope=col>PA</th><th scope=col>HR</th><th scope=col>BBrate</th><th scope=col>BB</th><th scope=col>K</th><th scope=col>AVG</th><th scope=col>FB</th><th scope=col>playerid</th></tr></thead>\n",
       "<tbody>\n",
       "\t<tr><td>2016           </td><td>Abraham Almonte</td><td>Indians        </td><td>Central        </td><td>194            </td><td>1              </td><td>0.041          </td><td> 8             </td><td>42             </td><td>0.264          </td><td>43             </td><td> 5486          </td></tr>\n",
       "\t<tr><td>2017           </td><td>Abraham Almonte</td><td>Indians        </td><td>Central        </td><td>195            </td><td>3              </td><td>0.103          </td><td>20             </td><td>46             </td><td>0.233          </td><td>34             </td><td> 5486          </td></tr>\n",
       "\t<tr><td>2015           </td><td>Adam Moore     </td><td>Indians        </td><td>Central        </td><td>  4            </td><td>0              </td><td>0.000          </td><td> 0             </td><td> 2             </td><td>0.250          </td><td> 1             </td><td> 9362          </td></tr>\n",
       "\t<tr><td>2016           </td><td>Adam Moore     </td><td>Indians        </td><td>Central        </td><td>  5            </td><td>0              </td><td>0.000          </td><td> 0             </td><td> 4             </td><td>0.000          </td><td> 1             </td><td> 9362          </td></tr>\n",
       "\t<tr><td>2018           </td><td>Adam Plutko    </td><td>Indians        </td><td>Central        </td><td>  2            </td><td>0              </td><td>0.000          </td><td> 0             </td><td> 0             </td><td>0.000          </td><td> 0             </td><td>15846          </td></tr>\n",
       "\t<tr><td>2018           </td><td>Adam Rosales   </td><td>Indians        </td><td>Central        </td><td> 21            </td><td>1              </td><td>0.048          </td><td> 1             </td><td> 5             </td><td>0.211          </td><td> 7             </td><td> 9682          </td></tr>\n",
       "</tbody>\n",
       "</table>\n"
      ],
      "text/latex": [
       "\\begin{tabular}{r|llllllllllll}\n",
       " year & name & team & division & PA & HR & BBrate & BB & K & AVG & FB & playerid\\\\\n",
       "\\hline\n",
       "\t 2016            & Abraham Almonte & Indians         & Central         & 194             & 1               & 0.041           &  8              & 42              & 0.264           & 43              &  5486          \\\\\n",
       "\t 2017            & Abraham Almonte & Indians         & Central         & 195             & 3               & 0.103           & 20              & 46              & 0.233           & 34              &  5486          \\\\\n",
       "\t 2015            & Adam Moore      & Indians         & Central         &   4             & 0               & 0.000           &  0              &  2              & 0.250           &  1              &  9362          \\\\\n",
       "\t 2016            & Adam Moore      & Indians         & Central         &   5             & 0               & 0.000           &  0              &  4              & 0.000           &  1              &  9362          \\\\\n",
       "\t 2018            & Adam Plutko     & Indians         & Central         &   2             & 0               & 0.000           &  0              &  0              & 0.000           &  0              & 15846          \\\\\n",
       "\t 2018            & Adam Rosales    & Indians         & Central         &  21             & 1               & 0.048           &  1              &  5              & 0.211           &  7              &  9682          \\\\\n",
       "\\end{tabular}\n"
      ],
      "text/markdown": [
       "\n",
       "| year | name | team | division | PA | HR | BBrate | BB | K | AVG | FB | playerid |\n",
       "|---|---|---|---|---|---|---|---|---|---|---|---|\n",
       "| 2016            | Abraham Almonte | Indians         | Central         | 194             | 1               | 0.041           |  8              | 42              | 0.264           | 43              |  5486           |\n",
       "| 2017            | Abraham Almonte | Indians         | Central         | 195             | 3               | 0.103           | 20              | 46              | 0.233           | 34              |  5486           |\n",
       "| 2015            | Adam Moore      | Indians         | Central         |   4             | 0               | 0.000           |  0              |  2              | 0.250           |  1              |  9362           |\n",
       "| 2016            | Adam Moore      | Indians         | Central         |   5             | 0               | 0.000           |  0              |  4              | 0.000           |  1              |  9362           |\n",
       "| 2018            | Adam Plutko     | Indians         | Central         |   2             | 0               | 0.000           |  0              |  0              | 0.000           |  0              | 15846           |\n",
       "| 2018            | Adam Rosales    | Indians         | Central         |  21             | 1               | 0.048           |  1              |  5              | 0.211           |  7              |  9682           |\n",
       "\n"
      ],
      "text/plain": [
       "  year name            team    division PA  HR BBrate BB K  AVG   FB playerid\n",
       "1 2016 Abraham Almonte Indians Central  194 1  0.041   8 42 0.264 43  5486   \n",
       "2 2017 Abraham Almonte Indians Central  195 3  0.103  20 46 0.233 34  5486   \n",
       "3 2015 Adam Moore      Indians Central    4 0  0.000   0  2 0.250  1  9362   \n",
       "4 2016 Adam Moore      Indians Central    5 0  0.000   0  4 0.000  1  9362   \n",
       "5 2018 Adam Plutko     Indians Central    2 0  0.000   0  0 0.000  0 15846   \n",
       "6 2018 Adam Rosales    Indians Central   21 1  0.048   1  5 0.211  7  9682   "
      ]
     },
     "metadata": {},
     "output_type": "display_data"
    }
   ],
   "source": [
    "dat1 = mlb %>% mutate(BBrate = as.numeric(str_replace(BBrate, ' %', ''))/100) %>%\n",
    "    separate(BB_K, into = c(\"BB\", \"K\"), sep=\"/\", convert=TRUE)\n",
    "head(dat1)"
   ]
  },
  {
   "cell_type": "code",
   "execution_count": 18,
   "metadata": {},
   "outputs": [
    {
     "data": {
      "text/html": [
       "'integer'"
      ],
      "text/latex": [
       "'integer'"
      ],
      "text/markdown": [
       "'integer'"
      ],
      "text/plain": [
       "[1] \"integer\""
      ]
     },
     "metadata": {},
     "output_type": "display_data"
    }
   ],
   "source": [
    "class(dat1$BB)"
   ]
  },
  {
   "cell_type": "markdown",
   "metadata": {},
   "source": [
    "### Problem 2\n",
    "\n",
    "Calculate the HR per FB rate for each team and year. Convert this to a long dataset, so your variables should be `division`, `team`, and `2015`-`2018`, where values are the HR/FB rate. Note that you should ensure that `division` is still in the dataset.\n",
    "\n",
    "Create a variable called `increased`, which checks if the HR/FB rate was higher in 2018 than it was in 2015 for that team."
   ]
  },
  {
   "cell_type": "code",
   "execution_count": 20,
   "metadata": {},
   "outputs": [
    {
     "name": "stdout",
     "output_type": "stream",
     "text": [
      "# A tibble: 60 x 4\n",
      "# Groups:   division, team [15]\n",
      "   division team     year  HR_FB\n",
      "   <chr>    <chr>   <dbl>  <dbl>\n",
      " 1 Central  Indians  2015 0.0996\n",
      " 2 Central  Indians  2016 0.120 \n",
      " 3 Central  Indians  2017 0.131 \n",
      " 4 Central  Indians  2018 0.129 \n",
      " 5 Central  Royals   2015 0.0900\n",
      " 6 Central  Royals   2016 0.104 \n",
      " 7 Central  Royals   2017 0.123 \n",
      " 8 Central  Royals   2018 0.103 \n",
      " 9 Central  Tigers   2015 0.0961\n",
      "10 Central  Tigers   2016 0.138 \n",
      "# … with 50 more rows\n"
     ]
    },
    {
     "data": {
      "text/html": [
       "<table>\n",
       "<thead><tr><th scope=col>division</th><th scope=col>team</th><th scope=col>2015</th><th scope=col>2016</th><th scope=col>2017</th><th scope=col>2018</th><th scope=col>increased</th></tr></thead>\n",
       "<tbody>\n",
       "\t<tr><td>Central   </td><td>Indians   </td><td>0.09964727</td><td>0.1198402 </td><td>0.1314103 </td><td>0.12936849</td><td> TRUE     </td></tr>\n",
       "\t<tr><td>Central   </td><td>Royals    </td><td>0.08997253</td><td>0.1041215 </td><td>0.1225681 </td><td>0.10319635</td><td> TRUE     </td></tr>\n",
       "\t<tr><td>Central   </td><td>Tigers    </td><td>0.09611152</td><td>0.1376147 </td><td>0.1077051 </td><td>0.09244314</td><td>FALSE     </td></tr>\n",
       "\t<tr><td>Central   </td><td>Twins     </td><td>0.10641201</td><td>0.1308677 </td><td>0.1312420 </td><td>0.09869494</td><td>FALSE     </td></tr>\n",
       "\t<tr><td>Central   </td><td>White_Sox </td><td>0.10594947</td><td>0.1220799 </td><td>0.1352785 </td><td>0.13573620</td><td> TRUE     </td></tr>\n",
       "\t<tr><td>East      </td><td>Blue_Jays </td><td>0.16168582</td><td>0.1460446 </td><td>0.1417910 </td><td>0.13721264</td><td>FALSE     </td></tr>\n",
       "</tbody>\n",
       "</table>\n"
      ],
      "text/latex": [
       "\\begin{tabular}{r|lllllll}\n",
       " division & team & 2015 & 2016 & 2017 & 2018 & increased\\\\\n",
       "\\hline\n",
       "\t Central    & Indians    & 0.09964727 & 0.1198402  & 0.1314103  & 0.12936849 &  TRUE     \\\\\n",
       "\t Central    & Royals     & 0.08997253 & 0.1041215  & 0.1225681  & 0.10319635 &  TRUE     \\\\\n",
       "\t Central    & Tigers     & 0.09611152 & 0.1376147  & 0.1077051  & 0.09244314 & FALSE     \\\\\n",
       "\t Central    & Twins      & 0.10641201 & 0.1308677  & 0.1312420  & 0.09869494 & FALSE     \\\\\n",
       "\t Central     & White\\_Sox & 0.10594947  & 0.1220799   & 0.1352785   & 0.13573620  &  TRUE      \\\\\n",
       "\t East        & Blue\\_Jays & 0.16168582  & 0.1460446   & 0.1417910   & 0.13721264  & FALSE      \\\\\n",
       "\\end{tabular}\n"
      ],
      "text/markdown": [
       "\n",
       "| division | team | 2015 | 2016 | 2017 | 2018 | increased |\n",
       "|---|---|---|---|---|---|---|\n",
       "| Central    | Indians    | 0.09964727 | 0.1198402  | 0.1314103  | 0.12936849 |  TRUE      |\n",
       "| Central    | Royals     | 0.08997253 | 0.1041215  | 0.1225681  | 0.10319635 |  TRUE      |\n",
       "| Central    | Tigers     | 0.09611152 | 0.1376147  | 0.1077051  | 0.09244314 | FALSE      |\n",
       "| Central    | Twins      | 0.10641201 | 0.1308677  | 0.1312420  | 0.09869494 | FALSE      |\n",
       "| Central    | White_Sox  | 0.10594947 | 0.1220799  | 0.1352785  | 0.13573620 |  TRUE      |\n",
       "| East       | Blue_Jays  | 0.16168582 | 0.1460446  | 0.1417910  | 0.13721264 | FALSE      |\n",
       "\n"
      ],
      "text/plain": [
       "  division team      2015       2016      2017      2018       increased\n",
       "1 Central  Indians   0.09964727 0.1198402 0.1314103 0.12936849  TRUE    \n",
       "2 Central  Royals    0.08997253 0.1041215 0.1225681 0.10319635  TRUE    \n",
       "3 Central  Tigers    0.09611152 0.1376147 0.1077051 0.09244314 FALSE    \n",
       "4 Central  Twins     0.10641201 0.1308677 0.1312420 0.09869494 FALSE    \n",
       "5 Central  White_Sox 0.10594947 0.1220799 0.1352785 0.13573620  TRUE    \n",
       "6 East     Blue_Jays 0.16168582 0.1460446 0.1417910 0.13721264 FALSE    "
      ]
     },
     "metadata": {},
     "output_type": "display_data"
    }
   ],
   "source": [
    "dat2 = mlb %>% group_by(division, team, year) %>% summarize(HR_FB=sum(HR)/sum(FB)) %>% print %>%\n",
    "    spread(key=year, value=HR_FB) %>% mutate(increased = `2018` > `2015`)\n",
    "head(dat2)"
   ]
  },
  {
   "cell_type": "code",
   "execution_count": 21,
   "metadata": {},
   "outputs": [
    {
     "name": "stdout",
     "output_type": "stream",
     "text": [
      "# A tibble: 60 x 5\n",
      "# Groups:   division, team [15]\n",
      "   division team      increased year   HR_FB\n",
      "   <chr>    <chr>     <lgl>     <chr>  <dbl>\n",
      " 1 Central  Indians   TRUE      2015  0.0996\n",
      " 2 Central  Royals    TRUE      2015  0.0900\n",
      " 3 Central  Tigers    FALSE     2015  0.0961\n",
      " 4 Central  Twins     FALSE     2015  0.106 \n",
      " 5 Central  White_Sox TRUE      2015  0.106 \n",
      " 6 East     Blue_Jays FALSE     2015  0.162 \n",
      " 7 East     Orioles   FALSE     2015  0.150 \n",
      " 8 East     Rays      FALSE     2015  0.114 \n",
      " 9 East     Red_Sox   TRUE      2015  0.111 \n",
      "10 East     Yankees   TRUE      2015  0.127 \n",
      "# … with 50 more rows\n"
     ]
    },
    {
     "data": {
      "image/png": "[encoded data removed]",
      "text/plain": [
       "plot without title"
      ]
     },
     "metadata": {},
     "output_type": "display_data"
    }
   ],
   "source": [
    "dat2b = dat2 %>% gather(key=year, value=HR_FB, `2015`:`2018`) %>% print\n",
    "\n",
    "ggplot(dat2b, aes(color=team, linetype=increased, x=as.numeric(year), y=HR_FB)) + \n",
    "    geom_line() +\n",
    "    facet_wrap(~ division, nrow=3)"
   ]
  },
  {
   "cell_type": "markdown",
   "metadata": {},
   "source": [
    "Turn this back into a \"long\" dataset and create a plot of HR/FB rate on year. Color it by `team`, facet it by `division`, and choose the linetype according to the `increased` variable."
   ]
  },
  {
   "cell_type": "code",
   "execution_count": 7,
   "metadata": {
    "collapsed": true
   },
   "outputs": [],
   "source": [
    "dat2b = dat2\n"
   ]
  },
  {
   "cell_type": "markdown",
   "metadata": {},
   "source": [
    "### Problem 3\n",
    "\n",
    "Go back to `mlb` and calculate total HRs and PAs per year per team. Create a wide version of this dataset. So there should be a `team` variable, then eight variables tracking values: `HR_2015`, `HR_2016`, `HR_2017`, `HR_2018`, `PA_2015`, `PA_2016`, `PA_2017`, and `PA_2018`.\n",
    "\n",
    "Hint: Once you calculate the values you can use a `gather`, `unite`, and `spread` in that order to create the wide version."
   ]
  },
  {
   "cell_type": "code",
   "execution_count": 8,
   "metadata": {},
   "outputs": [
    {
     "data": {
      "text/html": [
       "&lt;NA&gt;"
      ],
      "text/latex": [
       "<NA>"
      ],
      "text/markdown": [
       "&lt;NA&gt;"
      ],
      "text/plain": [
       "[1] NA"
      ]
     },
     "metadata": {},
     "output_type": "display_data"
    }
   ],
   "source": [
    "dat3 = NA\n",
    "\n",
    "head(dat3)"
   ]
  },
  {
   "cell_type": "markdown",
   "metadata": {},
   "source": [
    "### Problem 4\n",
    "\n",
    "Remove player-seasons with less than 200 `PA`. Then, for each player, calculate the change in `AVG` from the previous year to the current year and the change from the current year to the next year. Store these as two variables. If data on the previous or next year is not present, then the corresponding variable should be `NA`.\n",
    "\n",
    "Once you have these two variables, make two plots where the `x`-axis is current year `AVG` and the `y`-axis is each of these difference variables. Can you make both plots with a single command using faceting? (Hint: you may need to do some additional data transformations to accomplish this.) What conclusions can you draw from these plots?"
   ]
  },
  {
   "cell_type": "code",
   "execution_count": 10,
   "metadata": {},
   "outputs": [
    {
     "data": {
      "text/html": [
       "&lt;NA&gt;"
      ],
      "text/latex": [
       "<NA>"
      ],
      "text/markdown": [
       "&lt;NA&gt;"
      ],
      "text/plain": [
       "[1] NA"
      ]
     },
     "metadata": {},
     "output_type": "display_data"
    }
   ],
   "source": [
    "dat4 = NA\n",
    "\n",
    "head(dat4)"
   ]
  },
  {
   "cell_type": "code",
   "execution_count": null,
   "metadata": {
    "collapsed": true
   },
   "outputs": [],
   "source": []
  }
 ],
 "metadata": {
  "kernelspec": {
   "display_name": "R",
   "language": "R",
   "name": "ir"
  },
  "language_info": {
   "codemirror_mode": "r",
   "file_extension": ".r",
   "mimetype": "text/x-r-source",
   "name": "R",
   "pygments_lexer": "r",
   "version": "3.6.1"
  }
 },
 "nbformat": 4,
 "nbformat_minor": 2
}
