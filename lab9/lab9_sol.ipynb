{
 "cells": [
  {
   "cell_type": "markdown",
   "metadata": {},
   "source": [
    "# Lab 9"
   ]
  },
  {
   "cell_type": "code",
   "execution_count": 1,
   "metadata": {},
   "outputs": [
    {
     "name": "stderr",
     "output_type": "stream",
     "text": [
      "Registered S3 methods overwritten by 'ggplot2':\n",
      "  method         from \n",
      "  [.quosures     rlang\n",
      "  c.quosures     rlang\n",
      "  print.quosures rlang\n",
      "Registered S3 method overwritten by 'rvest':\n",
      "  method            from\n",
      "  read_xml.response xml2\n",
      "── Attaching packages ─────────────────────────────────────── tidyverse 1.2.1 ──\n",
      "✔ ggplot2 3.1.1       ✔ purrr   0.3.2  \n",
      "✔ tibble  2.1.1       ✔ dplyr   0.8.0.1\n",
      "✔ tidyr   0.8.3       ✔ stringr 1.4.0  \n",
      "✔ readr   1.3.1       ✔ forcats 0.4.0  \n",
      "── Conflicts ────────────────────────────────────────── tidyverse_conflicts() ──\n",
      "✖ dplyr::filter() masks stats::filter()\n",
      "✖ dplyr::lag()    masks stats::lag()\n"
     ]
    }
   ],
   "source": [
    "library(tidyverse)\n",
    "library(nycflights13)"
   ]
  },
  {
   "cell_type": "markdown",
   "metadata": {},
   "source": [
    "## Q1:\n",
    "1. How does `[[` differ from `[` when you are subsetting a list?\n",
    "2. How do you extract the last value of an atomic vector?\n",
    "3. How do you extract every value but the last value of an atomic vector?\n",
    "4. Why is `x[-which(x > 0)]` not the same as `x[x <= 0]` where `x` is an atomic vector?\n"
   ]
  },
  {
   "cell_type": "markdown",
   "metadata": {},
   "source": [
    "1. check http://www.r-tutor.com/r-introduction/list"
   ]
  },
  {
   "cell_type": "markdown",
   "metadata": {},
   "source": [
    "2."
   ]
  },
  {
   "cell_type": "code",
   "execution_count": 2,
   "metadata": {},
   "outputs": [
    {
     "data": {
      "text/html": [
       "-1"
      ],
      "text/latex": [
       "-1"
      ],
      "text/markdown": [
       "-1"
      ],
      "text/plain": [
       "[1] -1"
      ]
     },
     "metadata": {},
     "output_type": "display_data"
    }
   ],
   "source": [
    "x  = c(-3,-2,-1)\n",
    "x[length(x)]"
   ]
  },
  {
   "cell_type": "markdown",
   "metadata": {},
   "source": [
    "3."
   ]
  },
  {
   "cell_type": "code",
   "execution_count": 3,
   "metadata": {},
   "outputs": [
    {
     "data": {
      "text/html": [
       "<ol class=list-inline>\n",
       "\t<li>-3</li>\n",
       "\t<li>-2</li>\n",
       "</ol>\n"
      ],
      "text/latex": [
       "\\begin{enumerate*}\n",
       "\\item -3\n",
       "\\item -2\n",
       "\\end{enumerate*}\n"
      ],
      "text/markdown": [
       "1. -3\n",
       "2. -2\n",
       "\n",
       "\n"
      ],
      "text/plain": [
       "[1] -3 -2"
      ]
     },
     "metadata": {},
     "output_type": "display_data"
    }
   ],
   "source": [
    "x[-length(x)]"
   ]
  },
  {
   "cell_type": "markdown",
   "metadata": {},
   "source": [
    "4."
   ]
  },
  {
   "cell_type": "code",
   "execution_count": 4,
   "metadata": {},
   "outputs": [
    {
     "data": {
      "text/html": [],
      "text/latex": [],
      "text/markdown": [],
      "text/plain": [
       "integer(0)"
      ]
     },
     "metadata": {},
     "output_type": "display_data"
    }
   ],
   "source": [
    "which(x > 0)"
   ]
  },
  {
   "cell_type": "code",
   "execution_count": 5,
   "metadata": {},
   "outputs": [
    {
     "name": "stdout",
     "output_type": "stream",
     "text": [
      "numeric(0)\n",
      "[1] -3 -2 -1\n"
     ]
    }
   ],
   "source": [
    "print(x[-which(x > 0)])\n",
    "print(x[x<=0])"
   ]
  },
  {
   "cell_type": "markdown",
   "metadata": {},
   "source": [
    "It would work if `which` condition is not empty"
   ]
  },
  {
   "cell_type": "code",
   "execution_count": 6,
   "metadata": {},
   "outputs": [
    {
     "name": "stdout",
     "output_type": "stream",
     "text": [
      "[1] -3 -2 -1\n",
      "[1] -3 -2 -1\n"
     ]
    }
   ],
   "source": [
    "x  = c(-3,-2,-1, 1)\n",
    "print(x[-which(x > 0)])\n",
    "print(x[x<=0])"
   ]
  },
  {
   "cell_type": "markdown",
   "metadata": {},
   "source": [
    "## Q2: use loop to do the following, store the result in a vector:\n",
    "1. Compute the mean of every column in mtcars with na.rm argument being true\n",
    "2. Determine the type of each column in nycflights13::flights.\n",
    "3. Compute the number of unique values in each column of iris."
   ]
  },
  {
   "cell_type": "code",
   "execution_count": 7,
   "metadata": {},
   "outputs": [
    {
     "data": {
      "text/html": [
       "<ol class=list-inline>\n",
       "\t<li>1</li>\n",
       "\t<li>2</li>\n",
       "\t<li>3</li>\n",
       "\t<li>4</li>\n",
       "\t<li>5</li>\n",
       "\t<li>6</li>\n",
       "\t<li>7</li>\n",
       "\t<li>8</li>\n",
       "\t<li>9</li>\n",
       "\t<li>10</li>\n",
       "\t<li>11</li>\n",
       "</ol>\n"
      ],
      "text/latex": [
       "\\begin{enumerate*}\n",
       "\\item 1\n",
       "\\item 2\n",
       "\\item 3\n",
       "\\item 4\n",
       "\\item 5\n",
       "\\item 6\n",
       "\\item 7\n",
       "\\item 8\n",
       "\\item 9\n",
       "\\item 10\n",
       "\\item 11\n",
       "\\end{enumerate*}\n"
      ],
      "text/markdown": [
       "1. 1\n",
       "2. 2\n",
       "3. 3\n",
       "4. 4\n",
       "5. 5\n",
       "6. 6\n",
       "7. 7\n",
       "8. 8\n",
       "9. 9\n",
       "10. 10\n",
       "11. 11\n",
       "\n",
       "\n"
      ],
      "text/plain": [
       " [1]  1  2  3  4  5  6  7  8  9 10 11"
      ]
     },
     "metadata": {},
     "output_type": "display_data"
    }
   ],
   "source": [
    "seq_along(mtcars)"
   ]
  },
  {
   "cell_type": "code",
   "execution_count": 8,
   "metadata": {},
   "outputs": [
    {
     "data": {
      "text/html": [
       "<ol class=list-inline>\n",
       "\t<li>20.090625</li>\n",
       "\t<li>6.1875</li>\n",
       "\t<li>230.721875</li>\n",
       "\t<li>146.6875</li>\n",
       "\t<li>3.5965625</li>\n",
       "\t<li>3.21725</li>\n",
       "\t<li>17.84875</li>\n",
       "\t<li>0.4375</li>\n",
       "\t<li>0.40625</li>\n",
       "\t<li>3.6875</li>\n",
       "\t<li>2.8125</li>\n",
       "</ol>\n"
      ],
      "text/latex": [
       "\\begin{enumerate*}\n",
       "\\item 20.090625\n",
       "\\item 6.1875\n",
       "\\item 230.721875\n",
       "\\item 146.6875\n",
       "\\item 3.5965625\n",
       "\\item 3.21725\n",
       "\\item 17.84875\n",
       "\\item 0.4375\n",
       "\\item 0.40625\n",
       "\\item 3.6875\n",
       "\\item 2.8125\n",
       "\\end{enumerate*}\n"
      ],
      "text/markdown": [
       "1. 20.090625\n",
       "2. 6.1875\n",
       "3. 230.721875\n",
       "4. 146.6875\n",
       "5. 3.5965625\n",
       "6. 3.21725\n",
       "7. 17.84875\n",
       "8. 0.4375\n",
       "9. 0.40625\n",
       "10. 3.6875\n",
       "11. 2.8125\n",
       "\n",
       "\n"
      ],
      "text/plain": [
       " [1]  20.090625   6.187500 230.721875 146.687500   3.596563   3.217250\n",
       " [7]  17.848750   0.437500   0.406250   3.687500   2.812500"
      ]
     },
     "metadata": {},
     "output_type": "display_data"
    }
   ],
   "source": [
    "# task 1\n",
    "mtcars_mean <- vector('double')\n",
    "for (i in seq_along(mtcars)){\n",
    "    mtcars_mean[i] <- mean(mtcars[[i]], na.rm = TRUE)\n",
    "}\n",
    "mtcars_mean"
   ]
  },
  {
   "cell_type": "code",
   "execution_count": 9,
   "metadata": {},
   "outputs": [
    {
     "data": {
      "text/html": [
       "<ol class=list-inline>\n",
       "\t<li>'integer'</li>\n",
       "\t<li>'integer'</li>\n",
       "\t<li>'integer'</li>\n",
       "\t<li>'integer'</li>\n",
       "\t<li>'integer'</li>\n",
       "\t<li>'double'</li>\n",
       "\t<li>'integer'</li>\n",
       "\t<li>'integer'</li>\n",
       "\t<li>'double'</li>\n",
       "\t<li>'character'</li>\n",
       "\t<li>'integer'</li>\n",
       "\t<li>'character'</li>\n",
       "\t<li>'character'</li>\n",
       "\t<li>'character'</li>\n",
       "\t<li>'double'</li>\n",
       "\t<li>'double'</li>\n",
       "\t<li>'double'</li>\n",
       "\t<li>'double'</li>\n",
       "\t<li>'double'</li>\n",
       "</ol>\n"
      ],
      "text/latex": [
       "\\begin{enumerate*}\n",
       "\\item 'integer'\n",
       "\\item 'integer'\n",
       "\\item 'integer'\n",
       "\\item 'integer'\n",
       "\\item 'integer'\n",
       "\\item 'double'\n",
       "\\item 'integer'\n",
       "\\item 'integer'\n",
       "\\item 'double'\n",
       "\\item 'character'\n",
       "\\item 'integer'\n",
       "\\item 'character'\n",
       "\\item 'character'\n",
       "\\item 'character'\n",
       "\\item 'double'\n",
       "\\item 'double'\n",
       "\\item 'double'\n",
       "\\item 'double'\n",
       "\\item 'double'\n",
       "\\end{enumerate*}\n"
      ],
      "text/markdown": [
       "1. 'integer'\n",
       "2. 'integer'\n",
       "3. 'integer'\n",
       "4. 'integer'\n",
       "5. 'integer'\n",
       "6. 'double'\n",
       "7. 'integer'\n",
       "8. 'integer'\n",
       "9. 'double'\n",
       "10. 'character'\n",
       "11. 'integer'\n",
       "12. 'character'\n",
       "13. 'character'\n",
       "14. 'character'\n",
       "15. 'double'\n",
       "16. 'double'\n",
       "17. 'double'\n",
       "18. 'double'\n",
       "19. 'double'\n",
       "\n",
       "\n"
      ],
      "text/plain": [
       " [1] \"integer\"   \"integer\"   \"integer\"   \"integer\"   \"integer\"   \"double\"   \n",
       " [7] \"integer\"   \"integer\"   \"double\"    \"character\" \"integer\"   \"character\"\n",
       "[13] \"character\" \"character\" \"double\"    \"double\"    \"double\"    \"double\"   \n",
       "[19] \"double\"   "
      ]
     },
     "metadata": {},
     "output_type": "display_data"
    }
   ],
   "source": [
    "# task 2\n",
    "ftype <- vector('character')\n",
    "for (i in seq_along(flights)){\n",
    "    ftype[i] <- typeof(flights[[i]])\n",
    "}\n",
    "ftype"
   ]
  },
  {
   "cell_type": "code",
   "execution_count": 10,
   "metadata": {},
   "outputs": [
    {
     "data": {
      "text/html": [
       "<ol class=list-inline>\n",
       "\t<li>35</li>\n",
       "\t<li>23</li>\n",
       "\t<li>43</li>\n",
       "\t<li>22</li>\n",
       "\t<li>3</li>\n",
       "</ol>\n"
      ],
      "text/latex": [
       "\\begin{enumerate*}\n",
       "\\item 35\n",
       "\\item 23\n",
       "\\item 43\n",
       "\\item 22\n",
       "\\item 3\n",
       "\\end{enumerate*}\n"
      ],
      "text/markdown": [
       "1. 35\n",
       "2. 23\n",
       "3. 43\n",
       "4. 22\n",
       "5. 3\n",
       "\n",
       "\n"
      ],
      "text/plain": [
       "[1] 35 23 43 22  3"
      ]
     },
     "metadata": {},
     "output_type": "display_data"
    }
   ],
   "source": [
    "# task 3\n",
    "irisuniq <- vector('integer')\n",
    "for (i in seq_along(iris)){\n",
    "    irisuniq[i] <- length(unique(iris[[i]]))\n",
    "}\n",
    "irisuniq"
   ]
  },
  {
   "cell_type": "markdown",
   "metadata": {},
   "source": [
    "## Q3: repeat Q2 with map functions rather than loops and apply:"
   ]
  },
  {
   "cell_type": "code",
   "execution_count": 11,
   "metadata": {},
   "outputs": [
    {
     "data": {
      "text/html": [
       "<dl class=dl-horizontal>\n",
       "\t<dt>mpg</dt>\n",
       "\t\t<dd>20.090625</dd>\n",
       "\t<dt>cyl</dt>\n",
       "\t\t<dd>6.1875</dd>\n",
       "\t<dt>disp</dt>\n",
       "\t\t<dd>230.721875</dd>\n",
       "\t<dt>hp</dt>\n",
       "\t\t<dd>146.6875</dd>\n",
       "\t<dt>drat</dt>\n",
       "\t\t<dd>3.5965625</dd>\n",
       "\t<dt>wt</dt>\n",
       "\t\t<dd>3.21725</dd>\n",
       "\t<dt>qsec</dt>\n",
       "\t\t<dd>17.84875</dd>\n",
       "\t<dt>vs</dt>\n",
       "\t\t<dd>0.4375</dd>\n",
       "\t<dt>am</dt>\n",
       "\t\t<dd>0.40625</dd>\n",
       "\t<dt>gear</dt>\n",
       "\t\t<dd>3.6875</dd>\n",
       "\t<dt>carb</dt>\n",
       "\t\t<dd>2.8125</dd>\n",
       "</dl>\n"
      ],
      "text/latex": [
       "\\begin{description*}\n",
       "\\item[mpg] 20.090625\n",
       "\\item[cyl] 6.1875\n",
       "\\item[disp] 230.721875\n",
       "\\item[hp] 146.6875\n",
       "\\item[drat] 3.5965625\n",
       "\\item[wt] 3.21725\n",
       "\\item[qsec] 17.84875\n",
       "\\item[vs] 0.4375\n",
       "\\item[am] 0.40625\n",
       "\\item[gear] 3.6875\n",
       "\\item[carb] 2.8125\n",
       "\\end{description*}\n"
      ],
      "text/markdown": [
       "mpg\n",
       ":   20.090625cyl\n",
       ":   6.1875disp\n",
       ":   230.721875hp\n",
       ":   146.6875drat\n",
       ":   3.5965625wt\n",
       ":   3.21725qsec\n",
       ":   17.84875vs\n",
       ":   0.4375am\n",
       ":   0.40625gear\n",
       ":   3.6875carb\n",
       ":   2.8125\n",
       "\n"
      ],
      "text/plain": [
       "       mpg        cyl       disp         hp       drat         wt       qsec \n",
       " 20.090625   6.187500 230.721875 146.687500   3.596563   3.217250  17.848750 \n",
       "        vs         am       gear       carb \n",
       "  0.437500   0.406250   3.687500   2.812500 "
      ]
     },
     "metadata": {},
     "output_type": "display_data"
    },
    {
     "data": {
      "text/html": [
       "<dl class=dl-horizontal>\n",
       "\t<dt>year</dt>\n",
       "\t\t<dd>'integer'</dd>\n",
       "\t<dt>month</dt>\n",
       "\t\t<dd>'integer'</dd>\n",
       "\t<dt>day</dt>\n",
       "\t\t<dd>'integer'</dd>\n",
       "\t<dt>dep_time</dt>\n",
       "\t\t<dd>'integer'</dd>\n",
       "\t<dt>sched_dep_time</dt>\n",
       "\t\t<dd>'integer'</dd>\n",
       "\t<dt>dep_delay</dt>\n",
       "\t\t<dd>'double'</dd>\n",
       "\t<dt>arr_time</dt>\n",
       "\t\t<dd>'integer'</dd>\n",
       "\t<dt>sched_arr_time</dt>\n",
       "\t\t<dd>'integer'</dd>\n",
       "\t<dt>arr_delay</dt>\n",
       "\t\t<dd>'double'</dd>\n",
       "\t<dt>carrier</dt>\n",
       "\t\t<dd>'character'</dd>\n",
       "\t<dt>flight</dt>\n",
       "\t\t<dd>'integer'</dd>\n",
       "\t<dt>tailnum</dt>\n",
       "\t\t<dd>'character'</dd>\n",
       "\t<dt>origin</dt>\n",
       "\t\t<dd>'character'</dd>\n",
       "\t<dt>dest</dt>\n",
       "\t\t<dd>'character'</dd>\n",
       "\t<dt>air_time</dt>\n",
       "\t\t<dd>'double'</dd>\n",
       "\t<dt>distance</dt>\n",
       "\t\t<dd>'double'</dd>\n",
       "\t<dt>hour</dt>\n",
       "\t\t<dd>'double'</dd>\n",
       "\t<dt>minute</dt>\n",
       "\t\t<dd>'double'</dd>\n",
       "\t<dt>time_hour</dt>\n",
       "\t\t<dd>'double'</dd>\n",
       "</dl>\n"
      ],
      "text/latex": [
       "\\begin{description*}\n",
       "\\item[year] 'integer'\n",
       "\\item[month] 'integer'\n",
       "\\item[day] 'integer'\n",
       "\\item[dep\\textbackslash{}\\_time] 'integer'\n",
       "\\item[sched\\textbackslash{}\\_dep\\textbackslash{}\\_time] 'integer'\n",
       "\\item[dep\\textbackslash{}\\_delay] 'double'\n",
       "\\item[arr\\textbackslash{}\\_time] 'integer'\n",
       "\\item[sched\\textbackslash{}\\_arr\\textbackslash{}\\_time] 'integer'\n",
       "\\item[arr\\textbackslash{}\\_delay] 'double'\n",
       "\\item[carrier] 'character'\n",
       "\\item[flight] 'integer'\n",
       "\\item[tailnum] 'character'\n",
       "\\item[origin] 'character'\n",
       "\\item[dest] 'character'\n",
       "\\item[air\\textbackslash{}\\_time] 'double'\n",
       "\\item[distance] 'double'\n",
       "\\item[hour] 'double'\n",
       "\\item[minute] 'double'\n",
       "\\item[time\\textbackslash{}\\_hour] 'double'\n",
       "\\end{description*}\n"
      ],
      "text/markdown": [
       "year\n",
       ":   'integer'month\n",
       ":   'integer'day\n",
       ":   'integer'dep_time\n",
       ":   'integer'sched_dep_time\n",
       ":   'integer'dep_delay\n",
       ":   'double'arr_time\n",
       ":   'integer'sched_arr_time\n",
       ":   'integer'arr_delay\n",
       ":   'double'carrier\n",
       ":   'character'flight\n",
       ":   'integer'tailnum\n",
       ":   'character'origin\n",
       ":   'character'dest\n",
       ":   'character'air_time\n",
       ":   'double'distance\n",
       ":   'double'hour\n",
       ":   'double'minute\n",
       ":   'double'time_hour\n",
       ":   'double'\n",
       "\n"
      ],
      "text/plain": [
       "          year          month            day       dep_time sched_dep_time \n",
       "     \"integer\"      \"integer\"      \"integer\"      \"integer\"      \"integer\" \n",
       "     dep_delay       arr_time sched_arr_time      arr_delay        carrier \n",
       "      \"double\"      \"integer\"      \"integer\"       \"double\"    \"character\" \n",
       "        flight        tailnum         origin           dest       air_time \n",
       "     \"integer\"    \"character\"    \"character\"    \"character\"       \"double\" \n",
       "      distance           hour         minute      time_hour \n",
       "      \"double\"       \"double\"       \"double\"       \"double\" "
      ]
     },
     "metadata": {},
     "output_type": "display_data"
    },
    {
     "data": {
      "text/html": [
       "<dl class=dl-horizontal>\n",
       "\t<dt>Sepal.Length</dt>\n",
       "\t\t<dd>35</dd>\n",
       "\t<dt>Sepal.Width</dt>\n",
       "\t\t<dd>23</dd>\n",
       "\t<dt>Petal.Length</dt>\n",
       "\t\t<dd>43</dd>\n",
       "\t<dt>Petal.Width</dt>\n",
       "\t\t<dd>22</dd>\n",
       "\t<dt>Species</dt>\n",
       "\t\t<dd>3</dd>\n",
       "</dl>\n"
      ],
      "text/latex": [
       "\\begin{description*}\n",
       "\\item[Sepal.Length] 35\n",
       "\\item[Sepal.Width] 23\n",
       "\\item[Petal.Length] 43\n",
       "\\item[Petal.Width] 22\n",
       "\\item[Species] 3\n",
       "\\end{description*}\n"
      ],
      "text/markdown": [
       "Sepal.Length\n",
       ":   35Sepal.Width\n",
       ":   23Petal.Length\n",
       ":   43Petal.Width\n",
       ":   22Species\n",
       ":   3\n",
       "\n"
      ],
      "text/plain": [
       "Sepal.Length  Sepal.Width Petal.Length  Petal.Width      Species \n",
       "          35           23           43           22            3 "
      ]
     },
     "metadata": {},
     "output_type": "display_data"
    }
   ],
   "source": [
    "map_dbl(mtcars, mean, na.rm = T)\n",
    "#mtcars_mean = sapply(mtcars, mean)\n",
    "map_chr(flights, typeof)\n",
    "#ftype = sapply(flights, typeof)\n",
    "map_int(iris, ~ length(unique(.)))\n",
    "#irisuniq = sapply(iris, function(x) length(unique(x)))"
   ]
  },
  {
   "cell_type": "markdown",
   "metadata": {},
   "source": [
    "## Q4: suppose Joe wants to climb n stairs, at each step, Joe can climb 1 stair or 2 stairs; write a function to find out many different ways are there for Joe to climb n stairs. Example: if n=3, then Joe has 3 ways: (1,1,1), (1,2), and (2,1)."
   ]
  },
  {
   "cell_type": "code",
   "execution_count": 12,
   "metadata": {},
   "outputs": [
    {
     "data": {
      "text/html": [
       "8"
      ],
      "text/latex": [
       "8"
      ],
      "text/markdown": [
       "8"
      ],
      "text/plain": [
       "[1] 8"
      ]
     },
     "metadata": {},
     "output_type": "display_data"
    }
   ],
   "source": [
    "nways <- function(n){\n",
    "    if (n == 1) return(1)\n",
    "    if (n == 2) return(2)\n",
    "    return(nways(n-1) + nways(n-2))\n",
    "}\n",
    "nways(5)"
   ]
  },
  {
   "cell_type": "markdown",
   "metadata": {},
   "source": [
    "## Q5: What's a more efficient way of doing Q4? Can you use memoization? (suppose n < 1000)"
   ]
  },
  {
   "cell_type": "code",
   "execution_count": 15,
   "metadata": {},
   "outputs": [
    {
     "data": {
      "text/html": [
       "8"
      ],
      "text/latex": [
       "8"
      ],
      "text/markdown": [
       "8"
      ],
      "text/plain": [
       "[1] 8"
      ]
     },
     "metadata": {},
     "output_type": "display_data"
    }
   ],
   "source": [
    "memo <- rep(NA, 1000)\n",
    "nwaysmemo <- function(n){\n",
    "    if (n == 1) return(1)\n",
    "    if (n == 2) return(2)\n",
    "    if (!is.na(memo[n])){\n",
    "        return(memo[n])\n",
    "    } else{\n",
    "        memo[n] <<- nwaysmemo(n-1) + nwaysmemo(n-2)\n",
    "        return(memo[n])\n",
    "    }\n",
    "}\n",
    "nwaysmemo(5)"
   ]
  },
  {
   "cell_type": "code",
   "execution_count": 14,
   "metadata": {},
   "outputs": [
    {
     "data": {
      "text/html": [
       "1346269"
      ],
      "text/latex": [
       "1346269"
      ],
      "text/markdown": [
       "1346269"
      ],
      "text/plain": [
       "[1] 1346269"
      ]
     },
     "metadata": {},
     "output_type": "display_data"
    },
    {
     "name": "stdout",
     "output_type": "stream",
     "text": [
      "   user  system elapsed \n",
      "   0.56    0.00    0.56 \n"
     ]
    },
    {
     "data": {
      "text/html": [
       "1346269"
      ],
      "text/latex": [
       "1346269"
      ],
      "text/markdown": [
       "1346269"
      ],
      "text/plain": [
       "[1] 1346269"
      ]
     },
     "metadata": {},
     "output_type": "display_data"
    },
    {
     "name": "stdout",
     "output_type": "stream",
     "text": [
      "   user  system elapsed \n",
      "  0.003   0.003   0.006 \n"
     ]
    }
   ],
   "source": [
    "ptm <- proc.time()\n",
    "nways(30)\n",
    "print(proc.time() - ptm)\n",
    "\n",
    "ptm <- proc.time()\n",
    "rm(memo)\n",
    "memo <- rep(NA, 1000)\n",
    "nwaysmemo(30)\n",
    "print(proc.time() - ptm)"
   ]
  }
 ],
 "metadata": {
  "kernelspec": {
   "display_name": "R",
   "language": "R",
   "name": "ir"
  },
  "language_info": {
   "codemirror_mode": "r",
   "file_extension": ".r",
   "mimetype": "text/x-r-source",
   "name": "R",
   "pygments_lexer": "r",
   "version": "3.6.1"
  }
 },
 "nbformat": 4,
 "nbformat_minor": 2
}
